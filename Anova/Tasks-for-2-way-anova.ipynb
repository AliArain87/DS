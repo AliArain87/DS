{
 "cells": [
  {
   "cell_type": "markdown",
   "metadata": {},
   "source": [
    "# Assignment"
   ]
  },
  {
   "cell_type": "code",
   "execution_count": 11,
   "metadata": {},
   "outputs": [],
   "source": [
    "# import libraries\n",
    "import numpy as np\n",
    "import pandas as pd\n",
    "import matplotlib.pyplot as plt\n",
    "import seaborn as sns\n",
    "import pingouin as pg\n",
    "import math\n",
    "from statsmodels.stats.anova import anova_lm\n",
    "from statsmodels.sandbox.stats.multicomp import MultiComparison\n"
   ]
  },
  {
   "cell_type": "code",
   "execution_count": 2,
   "metadata": {},
   "outputs": [
    {
     "data": {
      "text/html": [
       "<div>\n",
       "<style scoped>\n",
       "    .dataframe tbody tr th:only-of-type {\n",
       "        vertical-align: middle;\n",
       "    }\n",
       "\n",
       "    .dataframe tbody tr th {\n",
       "        vertical-align: top;\n",
       "    }\n",
       "\n",
       "    .dataframe thead th {\n",
       "        text-align: right;\n",
       "    }\n",
       "</style>\n",
       "<table border=\"1\" class=\"dataframe\">\n",
       "  <thead>\n",
       "    <tr style=\"text-align: right;\">\n",
       "      <th></th>\n",
       "      <th>water</th>\n",
       "      <th>sun</th>\n",
       "      <th>height</th>\n",
       "    </tr>\n",
       "  </thead>\n",
       "  <tbody>\n",
       "    <tr>\n",
       "      <th>26</th>\n",
       "      <td>weekly</td>\n",
       "      <td>high</td>\n",
       "      <td>6</td>\n",
       "    </tr>\n",
       "    <tr>\n",
       "      <th>23</th>\n",
       "      <td>weekly</td>\n",
       "      <td>medium</td>\n",
       "      <td>4</td>\n",
       "    </tr>\n",
       "    <tr>\n",
       "      <th>5</th>\n",
       "      <td>daily</td>\n",
       "      <td>medium</td>\n",
       "      <td>5</td>\n",
       "    </tr>\n",
       "    <tr>\n",
       "      <th>25</th>\n",
       "      <td>weekly</td>\n",
       "      <td>high</td>\n",
       "      <td>5</td>\n",
       "    </tr>\n",
       "    <tr>\n",
       "      <th>14</th>\n",
       "      <td>daily</td>\n",
       "      <td>high</td>\n",
       "      <td>7</td>\n",
       "    </tr>\n",
       "    <tr>\n",
       "      <th>3</th>\n",
       "      <td>daily</td>\n",
       "      <td>low</td>\n",
       "      <td>5</td>\n",
       "    </tr>\n",
       "    <tr>\n",
       "      <th>11</th>\n",
       "      <td>daily</td>\n",
       "      <td>high</td>\n",
       "      <td>6</td>\n",
       "    </tr>\n",
       "    <tr>\n",
       "      <th>8</th>\n",
       "      <td>daily</td>\n",
       "      <td>medium</td>\n",
       "      <td>4</td>\n",
       "    </tr>\n",
       "    <tr>\n",
       "      <th>29</th>\n",
       "      <td>weekly</td>\n",
       "      <td>high</td>\n",
       "      <td>8</td>\n",
       "    </tr>\n",
       "    <tr>\n",
       "      <th>20</th>\n",
       "      <td>weekly</td>\n",
       "      <td>medium</td>\n",
       "      <td>4</td>\n",
       "    </tr>\n",
       "  </tbody>\n",
       "</table>\n",
       "</div>"
      ],
      "text/plain": [
       "     water     sun  height\n",
       "26  weekly    high       6\n",
       "23  weekly  medium       4\n",
       "5    daily  medium       5\n",
       "25  weekly    high       5\n",
       "14   daily    high       7\n",
       "3    daily     low       5\n",
       "11   daily    high       6\n",
       "8    daily  medium       4\n",
       "29  weekly    high       8\n",
       "20  weekly  medium       4"
      ]
     },
     "execution_count": 2,
     "metadata": {},
     "output_type": "execute_result"
    }
   ],
   "source": [
    "# create a dataset\n",
    "\n",
    "df = pd.DataFrame({'water': np.repeat(['daily', 'weekly'], 15),\n",
    "                   'sun': np.tile(np.repeat(['low', 'medium', 'high'], 5), 2),\n",
    "                   'height': [6, 6, 6, 5, 6, 5, 5, 6, 4, 5,\n",
    "                              6, 6, 7, 8, 7, 3, 4, 4, 4, 5,\n",
    "                              4, 4, 4, 4, 4, 5, 6, 6, 7, 8]})\n",
    "df.sample(10)\n"
   ]
  },
  {
   "cell_type": "code",
   "execution_count": 5,
   "metadata": {},
   "outputs": [
    {
     "name": "stdout",
     "output_type": "stream",
     "text": [
      "                 A                B  mean(A)  mean(B)  diff       se  \\\n",
      "0     high + daily    high + weekly      6.8      6.4   0.4  0.46188   \n",
      "1     high + daily      low + daily      6.8      5.8   1.0  0.46188   \n",
      "2     high + daily     low + weekly      6.8      4.0   2.8  0.46188   \n",
      "3     high + daily   medium + daily      6.8      5.0   1.8  0.46188   \n",
      "4     high + daily  medium + weekly      6.8      4.0   2.8  0.46188   \n",
      "5    high + weekly      low + daily      6.4      5.8   0.6  0.46188   \n",
      "6    high + weekly     low + weekly      6.4      4.0   2.4  0.46188   \n",
      "7    high + weekly   medium + daily      6.4      5.0   1.4  0.46188   \n",
      "8    high + weekly  medium + weekly      6.4      4.0   2.4  0.46188   \n",
      "9      low + daily     low + weekly      5.8      4.0   1.8  0.46188   \n",
      "10     low + daily   medium + daily      5.8      5.0   0.8  0.46188   \n",
      "11     low + daily  medium + weekly      5.8      4.0   1.8  0.46188   \n",
      "12    low + weekly   medium + daily      4.0      5.0  -1.0  0.46188   \n",
      "13    low + weekly  medium + weekly      4.0      4.0   0.0  0.46188   \n",
      "14  medium + daily  medium + weekly      5.0      4.0   1.0  0.46188   \n",
      "\n",
      "           T   p-tukey    hedges  \n",
      "0   0.866025  0.951006  0.494717  \n",
      "1   2.165064  0.289829  1.236793  \n",
      "2   6.062178  0.000039  3.463020  \n",
      "3   3.897114  0.007930  2.226227  \n",
      "4   6.062178  0.000039  3.463020  \n",
      "5   1.299038  0.782653  0.742076  \n",
      "6   5.196152  0.000328  2.968303  \n",
      "7   3.031089  0.056952  1.731510  \n",
      "8   5.196152  0.000328  2.968303  \n",
      "9   3.897114  0.007930  2.226227  \n",
      "10  1.732051  0.525233  0.989434  \n",
      "11  3.897114  0.007930  2.226227  \n",
      "12 -2.165064  0.289829 -1.236793  \n",
      "13  0.000000  1.000000  0.000000  \n",
      "14  2.165064  0.289829  1.236793  \n"
     ]
    }
   ],
   "source": [
    "# tukey test kaisay lagana hy two way anova per?\n",
    "df['2'] = df['sun'].map(\n",
    "    str) + \" + \" + df['water'].map(str)\n",
    "\n",
    "pt = pg.pairwise_tukey(data=df, dv='height', between='2')\n",
    "print(pt)\n"
   ]
  },
  {
   "cell_type": "code",
   "execution_count": 13,
   "metadata": {},
   "outputs": [
    {
     "name": "stderr",
     "output_type": "stream",
     "text": [
      "C:\\Users\\Anonymous\\AppData\\Local\\Programs\\Python\\Python310\\lib\\site-packages\\seaborn\\_decorators.py:36: FutureWarning: Pass the following variables as keyword args: x, y. From version 0.12, the only valid positional argument will be `data`, and passing other arguments without an explicit keyword will result in an error or misinterpretation.\n",
      "  warnings.warn(\n"
     ]
    },
    {
     "data": {
      "text/plain": [
       "<AxesSubplot:xlabel='sun', ylabel='height'>"
      ]
     },
     "execution_count": 13,
     "metadata": {},
     "output_type": "execute_result"
    },
    {
     "data": {
      "image/png": "[encoded data removed]",
      "text/plain": [
       "<Figure size 432x288 with 1 Axes>"
      ]
     },
     "metadata": {
      "needs_background": "light"
     },
     "output_type": "display_data"
    }
   ],
   "source": [
    "# lettering or grouping kaisay karni hai?\n",
    "xrange= range\n",
    "plt.xticks(range(26), [chr(97 + x) for x in xrange(26)])\n",
    "sns.boxplot('sun', 'height', data=df)"
   ]
  },
  {
   "cell_type": "code",
   "execution_count": 14,
   "metadata": {},
   "outputs": [
    {
     "name": "stderr",
     "output_type": "stream",
     "text": [
      "C:\\Users\\Anonymous\\AppData\\Local\\Programs\\Python\\Python310\\lib\\site-packages\\seaborn\\_decorators.py:36: FutureWarning: Pass the following variables as keyword args: x, y. From version 0.12, the only valid positional argument will be `data`, and passing other arguments without an explicit keyword will result in an error or misinterpretation.\n",
      "  warnings.warn(\n"
     ]
    },
    {
     "data": {
      "text/plain": [
       "<AxesSubplot:xlabel='2', ylabel='height'>"
      ]
     },
     "execution_count": 14,
     "metadata": {},
     "output_type": "execute_result"
    },
    {
     "data": {
      "image/png": "[encoded data removed]",
      "text/plain": [
       "<Figure size 432x288 with 1 Axes>"
      ]
     },
     "metadata": {
      "needs_background": "light"
     },
     "output_type": "display_data"
    }
   ],
   "source": [
    "sns.boxplot('2', 'height', data=df)\n"
   ]
  },
  {
   "cell_type": "code",
   "execution_count": 24,
   "metadata": {},
   "outputs": [
    {
     "data": {
      "image/png": "[encoded data removed]",
      "text/plain": [
       "<Figure size 432x288 with 1 Axes>"
      ]
     },
     "metadata": {
      "needs_background": "light"
     },
     "output_type": "display_data"
    }
   ],
   "source": [
    "# Annotation kaisay karni hy graphs main?\n",
    "fig2 = sns.boxplot(x='height', y='water',\n",
    "                   hue='sun', data=df)\n",
    "\n",
    "plt.plot([-0.1, -0.1, 1.1, 1.1], [48, 65, 65, 65], 'k')\n",
    "plt.text(0.75, 67, 'p = 0.001')\n",
    "plt.plot([0.9, 0.9, 1.1, 1.1], [70, 70, 70, 70], 'k')\n",
    "plt.text(0.9, 72, 'p = 0.05')\n",
    "plt.plot([0.3, 0.3, 1.1, 1.1], [77, 77, 77, 77], 'k')\n",
    "plt.text(0.5, 79, 'p = 0.001')\n",
    "plt.plot([0.3, 0.3, 1.3, 1.3], [82, 82, 82, 82], 'k')\n",
    "plt.text(0.6, 83, 'p = 0.01')\n",
    "\n",
    "plt.show()\n"
   ]
  },
  {
   "cell_type": "code",
   "execution_count": null,
   "metadata": {},
   "outputs": [],
   "source": []
  }
 ],
 "metadata": {
  "interpreter": {
   "hash": "e626341f7d273a073ca6760d51f453142864e91a54b48c38f50eacc9d94e2c4c"
  },
  "kernelspec": {
   "display_name": "Python 3.10.0 64-bit",
   "language": "python",
   "name": "python3"
  },
  "language_info": {
   "codemirror_mode": {
    "name": "ipython",
    "version": 3
   },
   "file_extension": ".py",
   "mimetype": "text/x-python",
   "name": "python",
   "nbconvert_exporter": "python",
   "pygments_lexer": "ipython3",
   "version": "3.10.0"
  },
  "orig_nbformat": 4
 },
 "nbformat": 4,
 "nbformat_minor": 2
}
