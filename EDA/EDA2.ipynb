{
 "cells": [
  {
   "cell_type": "code",
   "execution_count": 1,
   "metadata": {},
   "outputs": [],
   "source": [
    "import pandas as pd"
   ]
  },
  {
   "cell_type": "code",
   "execution_count": 6,
   "metadata": {},
   "outputs": [],
   "source": [
    "df = pd.read_csv(\"avg_rainfalltemp in UK - Sheet1.csv\")\n"
   ]
  },
  {
   "cell_type": "code",
   "execution_count": 7,
   "metadata": {},
   "outputs": [
    {
     "data": {
      "text/html": [
       "<div>\n",
       "<style scoped>\n",
       "    .dataframe tbody tr th:only-of-type {\n",
       "        vertical-align: middle;\n",
       "    }\n",
       "\n",
       "    .dataframe tbody tr th {\n",
       "        vertical-align: top;\n",
       "    }\n",
       "\n",
       "    .dataframe thead th {\n",
       "        text-align: right;\n",
       "    }\n",
       "</style>\n",
       "<table border=\"1\" class=\"dataframe\">\n",
       "  <thead>\n",
       "    <tr style=\"text-align: right;\">\n",
       "      <th></th>\n",
       "      <th>Year</th>\n",
       "      <th>Type of period</th>\n",
       "      <th>Period</th>\n",
       "      <th>Avg rainfall(in mm)</th>\n",
       "      <th>Avg temp(in centigrade)</th>\n",
       "    </tr>\n",
       "  </thead>\n",
       "  <tbody>\n",
       "    <tr>\n",
       "      <th>0</th>\n",
       "      <td>2010</td>\n",
       "      <td>Monthly</td>\n",
       "      <td>JAN</td>\n",
       "      <td>69.5</td>\n",
       "      <td>0.8</td>\n",
       "    </tr>\n",
       "    <tr>\n",
       "      <th>1</th>\n",
       "      <td>2010</td>\n",
       "      <td>Monthly</td>\n",
       "      <td>FEB</td>\n",
       "      <td>71.7</td>\n",
       "      <td>1.6</td>\n",
       "    </tr>\n",
       "    <tr>\n",
       "      <th>2</th>\n",
       "      <td>2010</td>\n",
       "      <td>Monthly</td>\n",
       "      <td>MAR</td>\n",
       "      <td>65.1</td>\n",
       "      <td>5.5</td>\n",
       "    </tr>\n",
       "    <tr>\n",
       "      <th>3</th>\n",
       "      <td>2010</td>\n",
       "      <td>Monthly</td>\n",
       "      <td>APR</td>\n",
       "      <td>21.4</td>\n",
       "      <td>8.2</td>\n",
       "    </tr>\n",
       "    <tr>\n",
       "      <th>4</th>\n",
       "      <td>2010</td>\n",
       "      <td>Monthly</td>\n",
       "      <td>MAY</td>\n",
       "      <td>22.1</td>\n",
       "      <td>9.8</td>\n",
       "    </tr>\n",
       "  </tbody>\n",
       "</table>\n",
       "</div>"
      ],
      "text/plain": [
       "   Year Type of period Period  Avg rainfall(in mm)  Avg temp(in centigrade)\n",
       "0  2010        Monthly    JAN                 69.5                      0.8\n",
       "1  2010        Monthly    FEB                 71.7                      1.6\n",
       "2  2010        Monthly    MAR                 65.1                      5.5\n",
       "3  2010        Monthly    APR                 21.4                      8.2\n",
       "4  2010        Monthly    MAY                 22.1                      9.8"
      ]
     },
     "execution_count": 7,
     "metadata": {},
     "output_type": "execute_result"
    }
   ],
   "source": [
    "df.head()"
   ]
  },
  {
   "cell_type": "code",
   "execution_count": 8,
   "metadata": {},
   "outputs": [
    {
     "data": {
      "text/plain": [
       "Year                       0\n",
       "Type of period             0\n",
       "Period                     0\n",
       "Avg rainfall(in mm)        0\n",
       "Avg temp(in centigrade)    0\n",
       "dtype: int64"
      ]
     },
     "execution_count": 8,
     "metadata": {},
     "output_type": "execute_result"
    }
   ],
   "source": [
    "df.isnull().sum()"
   ]
  },
  {
   "cell_type": "code",
   "execution_count": 10,
   "metadata": {},
   "outputs": [
    {
     "data": {
      "application/vnd.plotly.v1+json": {
       "config": {
        "plotlyServerURL": "https://plot.ly"
       },
       "data": [
        {
         "hovertemplate": "Period=JAN<br>Year=%{x}<br>Avg rainfall(in mm)=%{y}<extra></extra>",
         "legendgroup": "JAN",
         "marker": {
          "color": "#1F77B4",
          "symbol": "circle"
         },
         "mode": "markers",
         "name": "JAN",
         "orientation": "v",
         "showlegend": true,
         "type": "scatter",
         "x": [
          2010,
          2011,
          2012,
          2013,
          2014,
          2015,
          2016,
          2017,
          2018,
          2019
         ],
         "xaxis": "x",
         "y": [
          69.5,
          54.5,
          47.2,
          69.8,
          118.5,
          62.7,
          121.7,
          39.4,
          71.5,
          22.8
         ],
         "yaxis": "y"
        },
        {
         "alignmentgroup": "True",
         "hovertemplate": "Period=JAN<br>Year=%{x}<extra></extra>",
         "legendgroup": "JAN",
         "marker": {
          "color": "#1F77B4",
          "symbol": "circle"
         },
         "name": "JAN",
         "notched": true,
         "offsetgroup": "JAN",
         "showlegend": false,
         "type": "box",
         "x": [
          2010,
          2011,
          2012,
          2013,
          2014,
          2015,
          2016,
          2017,
          2018,
          2019
         ],
         "xaxis": "x3",
         "yaxis": "y3"
        },
        {
         "alignmentgroup": "True",
         "hovertemplate": "Period=JAN<br>Avg rainfall(in mm)=%{y}<extra></extra>",
         "legendgroup": "JAN",
         "marker": {
          "color": "#1F77B4",
          "symbol": "circle"
         },
         "name": "JAN",
         "offsetgroup": "JAN",
         "scalegroup": "y",
         "showlegend": false,
         "type": "violin",
         "xaxis": "x2",
         "y": [
          69.5,
          54.5,
          47.2,
          69.8,
          118.5,
          62.7,
          121.7,
          39.4,
          71.5,
          22.8
         ],
         "yaxis": "y2"
        },
        {
         "hovertemplate": "<b>OLS trendline</b><br>Avg rainfall(in mm) = -1.45697 * Year + 3002.83<br>R<sup>2</sup>=0.019556<br><br>Period=JAN<br>Year=%{x}<br>Avg rainfall(in mm)=%{y} <b>(trend)</b><extra></extra>",
         "legendgroup": "JAN",
         "marker": {
          "color": "#1F77B4",
          "symbol": "circle"
         },
         "mode": "lines",
         "name": "JAN",
         "showlegend": false,
         "type": "scatter",
         "x": [
          2010,
          2011,
          2012,
          2013,
          2014,
          2015,
          2016,
          2017,
          2018,
          2019
         ],
         "xaxis": "x",
         "y": [
          74.3163636363629,
          72.85939393939316,
          71.40242424242388,
          69.94545454545414,
          68.48848484848486,
          67.03151515151558,
          65.57454545454584,
          64.11757575757656,
          62.660606060606824,
          61.20363636363754
         ],
         "yaxis": "y"
        },
        {
         "hovertemplate": "Period=FEB<br>Year=%{x}<br>Avg rainfall(in mm)=%{y}<extra></extra>",
         "legendgroup": "FEB",
         "marker": {
          "color": "#FF7F0E",
          "symbol": "circle"
         },
         "mode": "markers",
         "name": "FEB",
         "orientation": "v",
         "showlegend": true,
         "type": "scatter",
         "x": [
          2010,
          2011,
          2012,
          2013,
          2014,
          2015,
          2016,
          2017,
          2018,
          2019
         ],
         "xaxis": "x",
         "y": [
          71.7,
          82,
          24.2,
          34.3,
          81.8,
          37,
          53,
          65.9,
          46.7,
          36.2
         ],
         "yaxis": "y"
        },
        {
         "alignmentgroup": "True",
         "hovertemplate": "Period=FEB<br>Year=%{x}<extra></extra>",
         "legendgroup": "FEB",
         "marker": {
          "color": "#FF7F0E",
          "symbol": "circle"
         },
         "name": "FEB",
         "notched": true,
         "offsetgroup": "FEB",
         "showlegend": false,
         "type": "box",
         "x": [
          2010,
          2011,
          2012,
          2013,
          2014,
          2015,
          2016,
          2017,
          2018,
          2019
         ],
         "xaxis": "x3",
         "yaxis": "y3"
        },
        {
         "alignmentgroup": "True",
         "hovertemplate": "Period=FEB<br>Avg rainfall(in mm)=%{y}<extra></extra>",
         "legendgroup": "FEB",
         "marker": {
          "color": "#FF7F0E",
          "symbol": "circle"
         },
         "name": "FEB",
         "offsetgroup": "FEB",
         "scalegroup": "y",
         "showlegend": false,
         "type": "violin",
         "xaxis": "x2",
         "y": [
          71.7,
          82,
          24.2,
          34.3,
          81.8,
          37,
          53,
          65.9,
          46.7,
          36.2
         ],
         "yaxis": "y2"
        },
        {
         "hovertemplate": "<b>OLS trendline</b><br>Avg rainfall(in mm) = -2.10182 * Year + 4287.39<br>R<sup>2</sup>=0.092435<br><br>Period=FEB<br>Year=%{x}<br>Avg rainfall(in mm)=%{y} <b>(trend)</b><extra></extra>",
         "legendgroup": "FEB",
         "marker": {
          "color": "#FF7F0E",
          "symbol": "circle"
         },
         "mode": "lines",
         "name": "FEB",
         "showlegend": false,
         "type": "scatter",
         "x": [
          2010,
          2011,
          2012,
          2013,
          2014,
          2015,
          2016,
          2017,
          2018,
          2019
         ],
         "xaxis": "x",
         "y": [
          62.73818181817569,
          60.63636363635669,
          58.5345454545386,
          56.43272727272051,
          54.33090909090242,
          52.229090909084334,
          50.127272727266245,
          48.025454545448156,
          45.92363636363007,
          43.82181818181198
         ],
         "yaxis": "y"
        },
        {
         "hovertemplate": "Period=MAR<br>Year=%{x}<br>Avg rainfall(in mm)=%{y}<extra></extra>",
         "legendgroup": "MAR",
         "marker": {
          "color": "#2CA02C",
          "symbol": "circle"
         },
         "mode": "markers",
         "name": "MAR",
         "orientation": "v",
         "showlegend": true,
         "type": "scatter",
         "x": [
          2010,
          2011,
          2012,
          2013,
          2014,
          2015,
          2016,
          2017,
          2018,
          2019
         ],
         "xaxis": "x",
         "y": [
          65.1,
          20.5,
          21.9,
          60.1,
          44.2,
          45.6,
          66.3,
          63.9,
          95.3,
          82.2
         ],
         "yaxis": "y"
        },
        {
         "alignmentgroup": "True",
         "hovertemplate": "Period=MAR<br>Year=%{x}<extra></extra>",
         "legendgroup": "MAR",
         "marker": {
          "color": "#2CA02C",
          "symbol": "circle"
         },
         "name": "MAR",
         "notched": true,
         "offsetgroup": "MAR",
         "showlegend": false,
         "type": "box",
         "x": [
          2010,
          2011,
          2012,
          2013,
          2014,
          2015,
          2016,
          2017,
          2018,
          2019
         ],
         "xaxis": "x3",
         "yaxis": "y3"
        },
        {
         "alignmentgroup": "True",
         "hovertemplate": "Period=MAR<br>Avg rainfall(in mm)=%{y}<extra></extra>",
         "legendgroup": "MAR",
         "marker": {
          "color": "#2CA02C",
          "symbol": "circle"
         },
         "name": "MAR",
         "offsetgroup": "MAR",
         "scalegroup": "y",
         "showlegend": false,
         "type": "violin",
         "xaxis": "x2",
         "y": [
          65.1,
          20.5,
          21.9,
          60.1,
          44.2,
          45.6,
          66.3,
          63.9,
          95.3,
          82.2
         ],
         "yaxis": "y2"
        },
        {
         "hovertemplate": "<b>OLS trendline</b><br>Avg rainfall(in mm) = 5.5 * Year + -11023.2<br>R<sup>2</sup>=0.483002<br><br>Period=MAR<br>Year=%{x}<br>Avg rainfall(in mm)=%{y} <b>(trend)</b><extra></extra>",
         "legendgroup": "MAR",
         "marker": {
          "color": "#2CA02C",
          "symbol": "circle"
         },
         "mode": "lines",
         "name": "MAR",
         "showlegend": false,
         "type": "scatter",
         "x": [
          2010,
          2011,
          2012,
          2013,
          2014,
          2015,
          2016,
          2017,
          2018,
          2019
         ],
         "xaxis": "x",
         "y": [
          31.760000000005675,
          37.260000000003856,
          42.760000000003856,
          48.26000000000204,
          53.76000000000022,
          59.26000000000022,
          64.7599999999984,
          70.2599999999984,
          75.75999999999658,
          81.25999999999476
         ],
         "yaxis": "y"
        },
        {
         "hovertemplate": "Period=APR<br>Year=%{x}<br>Avg rainfall(in mm)=%{y}<extra></extra>",
         "legendgroup": "APR",
         "marker": {
          "color": "#D62728",
          "symbol": "circle"
         },
         "mode": "markers",
         "name": "APR",
         "orientation": "v",
         "showlegend": true,
         "type": "scatter",
         "x": [
          2010,
          2011,
          2012,
          2013,
          2014,
          2015,
          2016,
          2017,
          2018,
          2019
         ],
         "xaxis": "x",
         "y": [
          21.4,
          10.3,
          140.9,
          22.1,
          42,
          25.6,
          70.3,
          19.4,
          78.2,
          27.7
         ],
         "yaxis": "y"
        },
        {
         "alignmentgroup": "True",
         "hovertemplate": "Period=APR<br>Year=%{x}<extra></extra>",
         "legendgroup": "APR",
         "marker": {
          "color": "#D62728",
          "symbol": "circle"
         },
         "name": "APR",
         "notched": true,
         "offsetgroup": "APR",
         "showlegend": false,
         "type": "box",
         "x": [
          2010,
          2011,
          2012,
          2013,
          2014,
          2015,
          2016,
          2017,
          2018,
          2019
         ],
         "xaxis": "x3",
         "yaxis": "y3"
        },
        {
         "alignmentgroup": "True",
         "hovertemplate": "Period=APR<br>Avg rainfall(in mm)=%{y}<extra></extra>",
         "legendgroup": "APR",
         "marker": {
          "color": "#D62728",
          "symbol": "circle"
         },
         "name": "APR",
         "offsetgroup": "APR",
         "scalegroup": "y",
         "showlegend": false,
         "type": "violin",
         "xaxis": "x2",
         "y": [
          21.4,
          10.3,
          140.9,
          22.1,
          42,
          25.6,
          70.3,
          19.4,
          78.2,
          27.7
         ],
         "yaxis": "y2"
        },
        {
         "hovertemplate": "<b>OLS trendline</b><br>Avg rainfall(in mm) = 0.319394 * Year + -597.629<br>R<sup>2</sup>=0.000578<br><br>Period=APR<br>Year=%{x}<br>Avg rainfall(in mm)=%{y} <b>(trend)</b><extra></extra>",
         "legendgroup": "APR",
         "marker": {
          "color": "#D62728",
          "symbol": "circle"
         },
         "mode": "lines",
         "name": "APR",
         "showlegend": false,
         "type": "scatter",
         "x": [
          2010,
          2011,
          2012,
          2013,
          2014,
          2015,
          2016,
          2017,
          2018,
          2019
         ],
         "xaxis": "x",
         "y": [
          44.35272727272593,
          44.67212121212026,
          44.99151515151459,
          45.31090909090892,
          45.63030303030325,
          45.949696969697584,
          46.26909090909203,
          46.58848484848636,
          46.90787878788069,
          47.22727272727502
         ],
         "yaxis": "y"
        },
        {
         "hovertemplate": "Period=MAY<br>Year=%{x}<br>Avg rainfall(in mm)=%{y}<extra></extra>",
         "legendgroup": "MAY",
         "marker": {
          "color": "#9467BD",
          "symbol": "circle"
         },
         "mode": "markers",
         "name": "MAY",
         "orientation": "v",
         "showlegend": true,
         "type": "scatter",
         "x": [
          2010,
          2011,
          2012,
          2013,
          2014,
          2015,
          2016,
          2017,
          2018,
          2019
         ],
         "xaxis": "x",
         "y": [
          22.1,
          48.5,
          62.3,
          76.4,
          104.4,
          82.5,
          36.2,
          42.9,
          35.5,
          52.1
         ],
         "yaxis": "y"
        },
        {
         "alignmentgroup": "True",
         "hovertemplate": "Period=MAY<br>Year=%{x}<extra></extra>",
         "legendgroup": "MAY",
         "marker": {
          "color": "#9467BD",
          "symbol": "circle"
         },
         "name": "MAY",
         "notched": true,
         "offsetgroup": "MAY",
         "showlegend": false,
         "type": "box",
         "x": [
          2010,
          2011,
          2012,
          2013,
          2014,
          2015,
          2016,
          2017,
          2018,
          2019
         ],
         "xaxis": "x3",
         "yaxis": "y3"
        },
        {
         "alignmentgroup": "True",
         "hovertemplate": "Period=MAY<br>Avg rainfall(in mm)=%{y}<extra></extra>",
         "legendgroup": "MAY",
         "marker": {
          "color": "#9467BD",
          "symbol": "circle"
         },
         "name": "MAY",
         "offsetgroup": "MAY",
         "scalegroup": "y",
         "showlegend": false,
         "type": "violin",
         "xaxis": "x2",
         "y": [
          22.1,
          48.5,
          62.3,
          76.4,
          104.4,
          82.5,
          36.2,
          42.9,
          35.5,
          52.1
         ],
         "yaxis": "y2"
        },
        {
         "hovertemplate": "<b>OLS trendline</b><br>Avg rainfall(in mm) = -0.366667 * Year + 794.94<br>R<sup>2</sup>=0.001944<br><br>Period=MAY<br>Year=%{x}<br>Avg rainfall(in mm)=%{y} <b>(trend)</b><extra></extra>",
         "legendgroup": "MAY",
         "marker": {
          "color": "#9467BD",
          "symbol": "circle"
         },
         "mode": "lines",
         "name": "MAY",
         "showlegend": false,
         "type": "scatter",
         "x": [
          2010,
          2011,
          2012,
          2013,
          2014,
          2015,
          2016,
          2017,
          2018,
          2019
         ],
         "xaxis": "x",
         "y": [
          57.93999999999801,
          57.573333333332016,
          57.20666666666614,
          56.840000000000146,
          56.47333333333415,
          56.106666666668275,
          55.74000000000228,
          55.37333333333629,
          55.00666666667041,
          54.64000000000442
         ],
         "yaxis": "y"
        },
        {
         "hovertemplate": "Period=JUN<br>Year=%{x}<br>Avg rainfall(in mm)=%{y}<extra></extra>",
         "legendgroup": "JUN",
         "marker": {
          "color": "#8C564B",
          "symbol": "circle"
         },
         "mode": "markers",
         "name": "JUN",
         "orientation": "v",
         "showlegend": true,
         "type": "scatter",
         "x": [
          2010,
          2011,
          2012,
          2013,
          2014,
          2015,
          2016,
          2017,
          2018,
          2019
         ],
         "xaxis": "x",
         "y": [
          42.7,
          62.9,
          141.5,
          40.8,
          45.5,
          34.9,
          76.5,
          116,
          26.6,
          114.3
         ],
         "yaxis": "y"
        },
        {
         "alignmentgroup": "True",
         "hovertemplate": "Period=JUN<br>Year=%{x}<extra></extra>",
         "legendgroup": "JUN",
         "marker": {
          "color": "#8C564B",
          "symbol": "circle"
         },
         "name": "JUN",
         "notched": true,
         "offsetgroup": "JUN",
         "showlegend": false,
         "type": "box",
         "x": [
          2010,
          2011,
          2012,
          2013,
          2014,
          2015,
          2016,
          2017,
          2018,
          2019
         ],
         "xaxis": "x3",
         "yaxis": "y3"
        },
        {
         "alignmentgroup": "True",
         "hovertemplate": "Period=JUN<br>Avg rainfall(in mm)=%{y}<extra></extra>",
         "legendgroup": "JUN",
         "marker": {
          "color": "#8C564B",
          "symbol": "circle"
         },
         "name": "JUN",
         "offsetgroup": "JUN",
         "scalegroup": "y",
         "showlegend": false,
         "type": "violin",
         "xaxis": "x2",
         "y": [
          42.7,
          62.9,
          141.5,
          40.8,
          45.5,
          34.9,
          76.5,
          116,
          26.6,
          114.3
         ],
         "yaxis": "y2"
        },
        {
         "hovertemplate": "<b>OLS trendline</b><br>Avg rainfall(in mm) = 2.17758 * Year + -4316.56<br>R<sup>2</sup>=0.026800<br><br>Period=JUN<br>Year=%{x}<br>Avg rainfall(in mm)=%{y} <b>(trend)</b><extra></extra>",
         "legendgroup": "JUN",
         "marker": {
          "color": "#8C564B",
          "symbol": "circle"
         },
         "mode": "lines",
         "name": "JUN",
         "showlegend": false,
         "type": "scatter",
         "x": [
          2010,
          2011,
          2012,
          2013,
          2014,
          2015,
          2016,
          2017,
          2018,
          2019
         ],
         "xaxis": "x",
         "y": [
          60.37090909091057,
          62.54848484848662,
          64.72606060606267,
          66.90363636363782,
          69.08121212121387,
          71.25878787878992,
          73.43636363636597,
          75.61393939394202,
          77.79151515151807,
          79.96909090909412
         ],
         "yaxis": "y"
        },
        {
         "hovertemplate": "Period=JUL<br>Year=%{x}<br>Avg rainfall(in mm)=%{y}<extra></extra>",
         "legendgroup": "JUL",
         "marker": {
          "color": "#E377C2",
          "symbol": "circle"
         },
         "mode": "markers",
         "name": "JUL",
         "orientation": "v",
         "showlegend": true,
         "type": "scatter",
         "x": [
          2010,
          2011,
          2012,
          2013,
          2014,
          2015,
          2016,
          2017,
          2018,
          2019
         ],
         "xaxis": "x",
         "y": [
          61.1,
          71.7,
          96.3,
          55.9,
          54.7,
          85.3,
          51.2,
          81.7,
          42.6,
          75.6
         ],
         "yaxis": "y"
        },
        {
         "alignmentgroup": "True",
         "hovertemplate": "Period=JUL<br>Year=%{x}<extra></extra>",
         "legendgroup": "JUL",
         "marker": {
          "color": "#E377C2",
          "symbol": "circle"
         },
         "name": "JUL",
         "notched": true,
         "offsetgroup": "JUL",
         "showlegend": false,
         "type": "box",
         "x": [
          2010,
          2011,
          2012,
          2013,
          2014,
          2015,
          2016,
          2017,
          2018,
          2019
         ],
         "xaxis": "x3",
         "yaxis": "y3"
        },
        {
         "alignmentgroup": "True",
         "hovertemplate": "Period=JUL<br>Avg rainfall(in mm)=%{y}<extra></extra>",
         "legendgroup": "JUL",
         "marker": {
          "color": "#E377C2",
          "symbol": "circle"
         },
         "name": "JUL",
         "offsetgroup": "JUL",
         "scalegroup": "y",
         "showlegend": false,
         "type": "violin",
         "xaxis": "x2",
         "y": [
          61.1,
          71.7,
          96.3,
          55.9,
          54.7,
          85.3,
          51.2,
          81.7,
          42.6,
          75.6
         ],
         "yaxis": "y2"
        },
        {
         "hovertemplate": "<b>OLS trendline</b><br>Avg rainfall(in mm) = -0.786061 * Year + 1651.13<br>R<sup>2</sup>=0.019192<br><br>Period=JUL<br>Year=%{x}<br>Avg rainfall(in mm)=%{y} <b>(trend)</b><extra></extra>",
         "legendgroup": "JUL",
         "marker": {
          "color": "#E377C2",
          "symbol": "circle"
         },
         "mode": "lines",
         "name": "JUL",
         "showlegend": false,
         "type": "scatter",
         "x": [
          2010,
          2011,
          2012,
          2013,
          2014,
          2015,
          2016,
          2017,
          2018,
          2019
         ],
         "xaxis": "x",
         "y": [
          71.14727272726691,
          70.36121212120656,
          69.57515151514622,
          68.78909090908587,
          68.00303030302553,
          67.21696969696518,
          66.43090909090483,
          65.64484848484449,
          64.85878787878414,
          64.0727272727238
         ],
         "yaxis": "y"
        },
        {
         "hovertemplate": "Period=AUG<br>Year=%{x}<br>Avg rainfall(in mm)=%{y}<extra></extra>",
         "legendgroup": "AUG",
         "marker": {
          "color": "#7F7F7F",
          "symbol": "circle"
         },
         "mode": "markers",
         "name": "AUG",
         "orientation": "v",
         "showlegend": true,
         "type": "scatter",
         "x": [
          2010,
          2011,
          2012,
          2013,
          2014,
          2015,
          2016,
          2017,
          2018,
          2019
         ],
         "xaxis": "x",
         "y": [
          76.6,
          94.1,
          87.6,
          61.2,
          96.2,
          73.2,
          73.2,
          64.4,
          57.7,
          89.1
         ],
         "yaxis": "y"
        },
        {
         "alignmentgroup": "True",
         "hovertemplate": "Period=AUG<br>Year=%{x}<extra></extra>",
         "legendgroup": "AUG",
         "marker": {
          "color": "#7F7F7F",
          "symbol": "circle"
         },
         "name": "AUG",
         "notched": true,
         "offsetgroup": "AUG",
         "showlegend": false,
         "type": "box",
         "x": [
          2010,
          2011,
          2012,
          2013,
          2014,
          2015,
          2016,
          2017,
          2018,
          2019
         ],
         "xaxis": "x3",
         "yaxis": "y3"
        },
        {
         "alignmentgroup": "True",
         "hovertemplate": "Period=AUG<br>Avg rainfall(in mm)=%{y}<extra></extra>",
         "legendgroup": "AUG",
         "marker": {
          "color": "#7F7F7F",
          "symbol": "circle"
         },
         "name": "AUG",
         "offsetgroup": "AUG",
         "scalegroup": "y",
         "showlegend": false,
         "type": "violin",
         "xaxis": "x2",
         "y": [
          76.6,
          94.1,
          87.6,
          61.2,
          96.2,
          73.2,
          73.2,
          64.4,
          57.7,
          89.1
         ],
         "yaxis": "y2"
        },
        {
         "hovertemplate": "<b>OLS trendline</b><br>Avg rainfall(in mm) = -1.48667 * Year + 3072.22<br>R<sup>2</sup>=0.105480<br><br>Period=AUG<br>Year=%{x}<br>Avg rainfall(in mm)=%{y} <b>(trend)</b><extra></extra>",
         "legendgroup": "AUG",
         "marker": {
          "color": "#7F7F7F",
          "symbol": "circle"
         },
         "mode": "lines",
         "name": "AUG",
         "showlegend": false,
         "type": "scatter",
         "x": [
          2010,
          2011,
          2012,
          2013,
          2014,
          2015,
          2016,
          2017,
          2018,
          2019
         ],
         "xaxis": "x",
         "y": [
          84.01999999999907,
          82.5333333333324,
          81.04666666666617,
          79.55999999999949,
          78.07333333333327,
          76.58666666666704,
          75.10000000000036,
          73.61333333333414,
          72.12666666666792,
          70.64000000000124
         ],
         "yaxis": "y"
        },
        {
         "hovertemplate": "Period=SEP<br>Year=%{x}<br>Avg rainfall(in mm)=%{y}<extra></extra>",
         "legendgroup": "SEP",
         "marker": {
          "color": "#BCBD22",
          "symbol": "circle"
         },
         "mode": "markers",
         "name": "SEP",
         "orientation": "v",
         "showlegend": true,
         "type": "scatter",
         "x": [
          2010,
          2011,
          2012,
          2013,
          2014,
          2015,
          2016,
          2017,
          2018,
          2019
         ],
         "xaxis": "x",
         "y": [
          83.9,
          43.2,
          95.3,
          44.1,
          18.2,
          39.1,
          48.6,
          85,
          58.6,
          104.9
         ],
         "yaxis": "y"
        },
        {
         "alignmentgroup": "True",
         "hovertemplate": "Period=SEP<br>Year=%{x}<extra></extra>",
         "legendgroup": "SEP",
         "marker": {
          "color": "#BCBD22",
          "symbol": "circle"
         },
         "name": "SEP",
         "notched": true,
         "offsetgroup": "SEP",
         "showlegend": false,
         "type": "box",
         "x": [
          2010,
          2011,
          2012,
          2013,
          2014,
          2015,
          2016,
          2017,
          2018,
          2019
         ],
         "xaxis": "x3",
         "yaxis": "y3"
        },
        {
         "alignmentgroup": "True",
         "hovertemplate": "Period=SEP<br>Avg rainfall(in mm)=%{y}<extra></extra>",
         "legendgroup": "SEP",
         "marker": {
          "color": "#BCBD22",
          "symbol": "circle"
         },
         "name": "SEP",
         "offsetgroup": "SEP",
         "scalegroup": "y",
         "showlegend": false,
         "type": "violin",
         "xaxis": "x2",
         "y": [
          83.9,
          43.2,
          95.3,
          44.1,
          18.2,
          39.1,
          48.6,
          85,
          58.6,
          104.9
         ],
         "yaxis": "y2"
        },
        {
         "hovertemplate": "<b>OLS trendline</b><br>Avg rainfall(in mm) = 1.69515 * Year + -3352.79<br>R<sup>2</sup>=0.032628<br><br>Period=SEP<br>Year=%{x}<br>Avg rainfall(in mm)=%{y} <b>(trend)</b><extra></extra>",
         "legendgroup": "SEP",
         "marker": {
          "color": "#BCBD22",
          "symbol": "circle"
         },
         "mode": "lines",
         "name": "SEP",
         "showlegend": false,
         "type": "scatter",
         "x": [
          2010,
          2011,
          2012,
          2013,
          2014,
          2015,
          2016,
          2017,
          2018,
          2019
         ],
         "xaxis": "x",
         "y": [
          54.46181818182549,
          56.156969696976375,
          57.85212121212726,
          59.54727272727814,
          61.242424242429024,
          62.93757575757991,
          64.63272727273079,
          66.32787878788122,
          68.0230303030321,
          69.71818181818298
         ],
         "yaxis": "y"
        },
        {
         "hovertemplate": "Period=OCT<br>Year=%{x}<br>Avg rainfall(in mm)=%{y}<extra></extra>",
         "legendgroup": "OCT",
         "marker": {
          "color": "#17BECF",
          "symbol": "circle"
         },
         "mode": "markers",
         "name": "OCT",
         "orientation": "v",
         "showlegend": true,
         "type": "scatter",
         "x": [
          2010,
          2011,
          2012,
          2013,
          2014,
          2015,
          2016,
          2017,
          2018,
          2019
         ],
         "xaxis": "x",
         "y": [
          65,
          62.1,
          86.4,
          111.5,
          83,
          65,
          50.1,
          50.1,
          66.3,
          115.4
         ],
         "yaxis": "y"
        },
        {
         "alignmentgroup": "True",
         "hovertemplate": "Period=OCT<br>Year=%{x}<extra></extra>",
         "legendgroup": "OCT",
         "marker": {
          "color": "#17BECF",
          "symbol": "circle"
         },
         "name": "OCT",
         "notched": true,
         "offsetgroup": "OCT",
         "showlegend": false,
         "type": "box",
         "x": [
          2010,
          2011,
          2012,
          2013,
          2014,
          2015,
          2016,
          2017,
          2018,
          2019
         ],
         "xaxis": "x3",
         "yaxis": "y3"
        },
        {
         "alignmentgroup": "True",
         "hovertemplate": "Period=OCT<br>Avg rainfall(in mm)=%{y}<extra></extra>",
         "legendgroup": "OCT",
         "marker": {
          "color": "#17BECF",
          "symbol": "circle"
         },
         "name": "OCT",
         "offsetgroup": "OCT",
         "scalegroup": "y",
         "showlegend": false,
         "type": "violin",
         "xaxis": "x2",
         "y": [
          65,
          62.1,
          86.4,
          111.5,
          83,
          65,
          50.1,
          50.1,
          66.3,
          115.4
         ],
         "yaxis": "y2"
        },
        {
         "hovertemplate": "<b>OLS trendline</b><br>Avg rainfall(in mm) = 0.601818 * Year + -1136.87<br>R<sup>2</sup>=0.006176<br><br>Period=OCT<br>Year=%{x}<br>Avg rainfall(in mm)=%{y} <b>(trend)</b><extra></extra>",
         "legendgroup": "OCT",
         "marker": {
          "color": "#17BECF",
          "symbol": "circle"
         },
         "mode": "lines",
         "name": "OCT",
         "showlegend": false,
         "type": "scatter",
         "x": [
          2010,
          2011,
          2012,
          2013,
          2014,
          2015,
          2016,
          2017,
          2018,
          2019
         ],
         "xaxis": "x",
         "y": [
          72.78181818181133,
          73.38363636362942,
          73.98545454544774,
          74.58727272726605,
          75.18909090908437,
          75.79090909090269,
          76.392727272721,
          76.9945454545391,
          77.59636363635741,
          78.19818181817573
         ],
         "yaxis": "y"
        },
        {
         "hovertemplate": "Period=NOV<br>Year=%{x}<br>Avg rainfall(in mm)=%{y}<extra></extra>",
         "legendgroup": "NOV",
         "marker": {
          "color": "#1F77B4",
          "symbol": "circle"
         },
         "mode": "markers",
         "name": "NOV",
         "orientation": "v",
         "showlegend": true,
         "type": "scatter",
         "x": [
          2010,
          2011,
          2012,
          2013,
          2014,
          2015,
          2016,
          2017,
          2018,
          2019
         ],
         "xaxis": "x",
         "y": [
          118.2,
          35.6,
          111.8,
          52.5,
          81.6,
          116.6,
          93.1,
          69.1,
          71.6,
          124
         ],
         "yaxis": "y"
        },
        {
         "alignmentgroup": "True",
         "hovertemplate": "Period=NOV<br>Year=%{x}<extra></extra>",
         "legendgroup": "NOV",
         "marker": {
          "color": "#1F77B4",
          "symbol": "circle"
         },
         "name": "NOV",
         "notched": true,
         "offsetgroup": "NOV",
         "showlegend": false,
         "type": "box",
         "x": [
          2010,
          2011,
          2012,
          2013,
          2014,
          2015,
          2016,
          2017,
          2018,
          2019
         ],
         "xaxis": "x3",
         "yaxis": "y3"
        },
        {
         "alignmentgroup": "True",
         "hovertemplate": "Period=NOV<br>Avg rainfall(in mm)=%{y}<extra></extra>",
         "legendgroup": "NOV",
         "marker": {
          "color": "#1F77B4",
          "symbol": "circle"
         },
         "name": "NOV",
         "offsetgroup": "NOV",
         "scalegroup": "y",
         "showlegend": false,
         "type": "violin",
         "xaxis": "x2",
         "y": [
          118.2,
          35.6,
          111.8,
          52.5,
          81.6,
          116.6,
          93.1,
          69.1,
          71.6,
          124
         ],
         "yaxis": "y2"
        },
        {
         "hovertemplate": "<b>OLS trendline</b><br>Avg rainfall(in mm) = 1.5 * Year + -2934.34<br>R<sup>2</sup>=0.022397<br><br>Period=NOV<br>Year=%{x}<br>Avg rainfall(in mm)=%{y} <b>(trend)</b><extra></extra>",
         "legendgroup": "NOV",
         "marker": {
          "color": "#1F77B4",
          "symbol": "circle"
         },
         "mode": "lines",
         "name": "NOV",
         "showlegend": false,
         "type": "scatter",
         "x": [
          2010,
          2011,
          2012,
          2013,
          2014,
          2015,
          2016,
          2017,
          2018,
          2019
         ],
         "xaxis": "x",
         "y": [
          80.66000000000622,
          82.16000000000531,
          83.6600000000044,
          85.16000000000349,
          86.66000000000258,
          88.16000000000213,
          89.66000000000122,
          91.16000000000031,
          92.6599999999994,
          94.15999999999849
         ],
         "yaxis": "y"
        },
        {
         "hovertemplate": "Period=DEC<br>Year=%{x}<br>Avg rainfall(in mm)=%{y}<extra></extra>",
         "legendgroup": "DEC",
         "marker": {
          "color": "#FF7F0E",
          "symbol": "circle"
         },
         "mode": "markers",
         "name": "DEC",
         "orientation": "v",
         "showlegend": true,
         "type": "scatter",
         "x": [
          2010,
          2011,
          2012,
          2013,
          2014,
          2015,
          2016,
          2017,
          2018,
          2019
         ],
         "xaxis": "x",
         "y": [
          40.7,
          76.2,
          127.7,
          76.7,
          61.1,
          148,
          37.9,
          56.8,
          71,
          61.4
         ],
         "yaxis": "y"
        },
        {
         "alignmentgroup": "True",
         "hovertemplate": "Period=DEC<br>Year=%{x}<extra></extra>",
         "legendgroup": "DEC",
         "marker": {
          "color": "#FF7F0E",
          "symbol": "circle"
         },
         "name": "DEC",
         "notched": true,
         "offsetgroup": "DEC",
         "showlegend": false,
         "type": "box",
         "x": [
          2010,
          2011,
          2012,
          2013,
          2014,
          2015,
          2016,
          2017,
          2018,
          2019
         ],
         "xaxis": "x3",
         "yaxis": "y3"
        },
        {
         "alignmentgroup": "True",
         "hovertemplate": "Period=DEC<br>Avg rainfall(in mm)=%{y}<extra></extra>",
         "legendgroup": "DEC",
         "marker": {
          "color": "#FF7F0E",
          "symbol": "circle"
         },
         "name": "DEC",
         "offsetgroup": "DEC",
         "scalegroup": "y",
         "showlegend": false,
         "type": "violin",
         "xaxis": "x2",
         "y": [
          40.7,
          76.2,
          127.7,
          76.7,
          61.1,
          148,
          37.9,
          56.8,
          71,
          61.4
         ],
         "yaxis": "y2"
        },
        {
         "hovertemplate": "<b>OLS trendline</b><br>Avg rainfall(in mm) = -1.41879 * Year + 2933.9<br>R<sup>2</sup>=0.014589<br><br>Period=DEC<br>Year=%{x}<br>Avg rainfall(in mm)=%{y} <b>(trend)</b><extra></extra>",
         "legendgroup": "DEC",
         "marker": {
          "color": "#FF7F0E",
          "symbol": "circle"
         },
         "mode": "lines",
         "name": "DEC",
         "showlegend": false,
         "type": "scatter",
         "x": [
          2010,
          2011,
          2012,
          2013,
          2014,
          2015,
          2016,
          2017,
          2018,
          2019
         ],
         "xaxis": "x",
         "y": [
          82.13454545453624,
          80.7157575757492,
          79.2969696969626,
          77.87818181817556,
          76.45939393938852,
          75.04060606060148,
          73.62181818181443,
          72.20303030302739,
          70.78424242424035,
          69.36545454545376
         ],
         "yaxis": "y"
        },
        {
         "hovertemplate": "Period=Winter<br>Year=%{x}<br>Avg rainfall(in mm)=%{y}<extra></extra>",
         "legendgroup": "Winter",
         "marker": {
          "color": "#2CA02C",
          "symbol": "circle"
         },
         "mode": "markers",
         "name": "Winter",
         "orientation": "v",
         "showlegend": true,
         "type": "scatter",
         "x": [
          2010,
          2011,
          2012,
          2013,
          2014,
          2015,
          2016,
          2017,
          2018,
          2019
         ],
         "xaxis": "x",
         "y": [
          228.7,
          177.2,
          147.6,
          231.8,
          277.1,
          160.8,
          322.6,
          143.2,
          175.1,
          130.4
         ],
         "yaxis": "y"
        },
        {
         "alignmentgroup": "True",
         "hovertemplate": "Period=Winter<br>Year=%{x}<extra></extra>",
         "legendgroup": "Winter",
         "marker": {
          "color": "#2CA02C",
          "symbol": "circle"
         },
         "name": "Winter",
         "notched": true,
         "offsetgroup": "Winter",
         "showlegend": false,
         "type": "box",
         "x": [
          2010,
          2011,
          2012,
          2013,
          2014,
          2015,
          2016,
          2017,
          2018,
          2019
         ],
         "xaxis": "x3",
         "yaxis": "y3"
        },
        {
         "alignmentgroup": "True",
         "hovertemplate": "Period=Winter<br>Avg rainfall(in mm)=%{y}<extra></extra>",
         "legendgroup": "Winter",
         "marker": {
          "color": "#2CA02C",
          "symbol": "circle"
         },
         "name": "Winter",
         "offsetgroup": "Winter",
         "scalegroup": "y",
         "showlegend": false,
         "type": "violin",
         "xaxis": "x2",
         "y": [
          228.7,
          177.2,
          147.6,
          231.8,
          277.1,
          160.8,
          322.6,
          143.2,
          175.1,
          130.4
         ],
         "yaxis": "y2"
        },
        {
         "hovertemplate": "<b>OLS trendline</b><br>Avg rainfall(in mm) = -4.63818 * Year + 9543.07<br>R<sup>2</sup>=0.048893<br><br>Period=Winter<br>Year=%{x}<br>Avg rainfall(in mm)=%{y} <b>(trend)</b><extra></extra>",
         "legendgroup": "Winter",
         "marker": {
          "color": "#2CA02C",
          "symbol": "circle"
         },
         "mode": "lines",
         "name": "Winter",
         "showlegend": false,
         "type": "scatter",
         "x": [
          2010,
          2011,
          2012,
          2013,
          2014,
          2015,
          2016,
          2017,
          2018,
          2019
         ],
         "xaxis": "x",
         "y": [
          220.32181818180834,
          215.68363636362665,
          211.04545454544495,
          206.40727272726326,
          201.76909090908157,
          197.13090909089988,
          192.49272727271818,
          187.8545454545365,
          183.2163636363548,
          178.5781818181731
         ],
         "yaxis": "y"
        },
        {
         "hovertemplate": "Period=Spring<br>Year=%{x}<br>Avg rainfall(in mm)=%{y}<extra></extra>",
         "legendgroup": "Spring",
         "marker": {
          "color": "#D62728",
          "symbol": "circle"
         },
         "mode": "markers",
         "name": "Spring",
         "orientation": "v",
         "showlegend": true,
         "type": "scatter",
         "x": [
          2010,
          2011,
          2012,
          2013,
          2014,
          2015,
          2016,
          2017,
          2018,
          2019
         ],
         "xaxis": "x",
         "y": [
          108.6,
          79.4,
          225.1,
          158.6,
          190.7,
          153.8,
          172.9,
          126.1,
          209,
          162.1
         ],
         "yaxis": "y"
        },
        {
         "alignmentgroup": "True",
         "hovertemplate": "Period=Spring<br>Year=%{x}<extra></extra>",
         "legendgroup": "Spring",
         "marker": {
          "color": "#D62728",
          "symbol": "circle"
         },
         "name": "Spring",
         "notched": true,
         "offsetgroup": "Spring",
         "showlegend": false,
         "type": "box",
         "x": [
          2010,
          2011,
          2012,
          2013,
          2014,
          2015,
          2016,
          2017,
          2018,
          2019
         ],
         "xaxis": "x3",
         "yaxis": "y3"
        },
        {
         "alignmentgroup": "True",
         "hovertemplate": "Period=Spring<br>Avg rainfall(in mm)=%{y}<extra></extra>",
         "legendgroup": "Spring",
         "marker": {
          "color": "#D62728",
          "symbol": "circle"
         },
         "name": "Spring",
         "offsetgroup": "Spring",
         "scalegroup": "y",
         "showlegend": false,
         "type": "violin",
         "xaxis": "x2",
         "y": [
          108.6,
          79.4,
          225.1,
          158.6,
          190.7,
          153.8,
          172.9,
          126.1,
          209,
          162.1
         ],
         "yaxis": "y2"
        },
        {
         "hovertemplate": "<b>OLS trendline</b><br>Avg rainfall(in mm) = 5.45273 * Year + -10825.9<br>R<sup>2</sup>=0.135809<br><br>Period=Spring<br>Year=%{x}<br>Avg rainfall(in mm)=%{y} <b>(trend)</b><extra></extra>",
         "legendgroup": "Spring",
         "marker": {
          "color": "#D62728",
          "symbol": "circle"
         },
         "mode": "lines",
         "name": "Spring",
         "showlegend": false,
         "type": "scatter",
         "x": [
          2010,
          2011,
          2012,
          2013,
          2014,
          2015,
          2016,
          2017,
          2018,
          2019
         ],
         "xaxis": "x",
         "y": [
          134.0927272727222,
          139.5454545454504,
          144.99818181817682,
          150.45090909090504,
          155.90363636363145,
          161.35636363635967,
          166.80909090908608,
          172.2618181818143,
          177.7145454545407,
          183.16727272726894
         ],
         "yaxis": "y"
        },
        {
         "hovertemplate": "Period=Summer<br>Year=%{x}<br>Avg rainfall(in mm)=%{y}<extra></extra>",
         "legendgroup": "Summer",
         "marker": {
          "color": "#9467BD",
          "symbol": "circle"
         },
         "mode": "markers",
         "name": "Summer",
         "orientation": "v",
         "showlegend": true,
         "type": "scatter",
         "x": [
          2010,
          2011,
          2012,
          2013,
          2014,
          2015,
          2016,
          2017,
          2018,
          2019
         ],
         "xaxis": "x",
         "y": [
          180.5,
          228.7,
          325.4,
          157.9,
          196.4,
          193.3,
          200.9,
          262,
          126.9,
          279
         ],
         "yaxis": "y"
        },
        {
         "alignmentgroup": "True",
         "hovertemplate": "Period=Summer<br>Year=%{x}<extra></extra>",
         "legendgroup": "Summer",
         "marker": {
          "color": "#9467BD",
          "symbol": "circle"
         },
         "name": "Summer",
         "notched": true,
         "offsetgroup": "Summer",
         "showlegend": false,
         "type": "box",
         "x": [
          2010,
          2011,
          2012,
          2013,
          2014,
          2015,
          2016,
          2017,
          2018,
          2019
         ],
         "xaxis": "x3",
         "yaxis": "y3"
        },
        {
         "alignmentgroup": "True",
         "hovertemplate": "Period=Summer<br>Avg rainfall(in mm)=%{y}<extra></extra>",
         "legendgroup": "Summer",
         "marker": {
          "color": "#9467BD",
          "symbol": "circle"
         },
         "name": "Summer",
         "offsetgroup": "Summer",
         "scalegroup": "y",
         "showlegend": false,
         "type": "violin",
         "xaxis": "x2",
         "y": [
          180.5,
          228.7,
          325.4,
          157.9,
          196.4,
          193.3,
          200.9,
          262,
          126.9,
          279
         ],
         "yaxis": "y2"
        },
        {
         "hovertemplate": "<b>OLS trendline</b><br>Avg rainfall(in mm) = -0.104242 * Year + 425.096<br>R<sup>2</sup>=0.000028<br><br>Period=Summer<br>Year=%{x}<br>Avg rainfall(in mm)=%{y} <b>(trend)</b><extra></extra>",
         "legendgroup": "Summer",
         "marker": {
          "color": "#9467BD",
          "symbol": "circle"
         },
         "mode": "lines",
         "name": "Summer",
         "showlegend": false,
         "type": "scatter",
         "x": [
          2010,
          2011,
          2012,
          2013,
          2014,
          2015,
          2016,
          2017,
          2018,
          2019
         ],
         "xaxis": "x",
         "y": [
          215.5690909090878,
          215.46484848484607,
          215.3606060606043,
          215.25636363636255,
          215.15212121212082,
          215.04787878787909,
          214.94363636363732,
          214.83939393939556,
          214.73515151515383,
          214.6309090909121
         ],
         "yaxis": "y"
        },
        {
         "hovertemplate": "Period=Autumn<br>Year=%{x}<br>Avg rainfall(in mm)=%{y}<extra></extra>",
         "legendgroup": "Autumn",
         "marker": {
          "color": "#8C564B",
          "symbol": "circle"
         },
         "mode": "markers",
         "name": "Autumn",
         "orientation": "v",
         "showlegend": true,
         "type": "scatter",
         "x": [
          2010,
          2011,
          2012,
          2013,
          2014,
          2015,
          2016,
          2017,
          2018,
          2019
         ],
         "xaxis": "x",
         "y": [
          267.2,
          140.9,
          293.5,
          208.1,
          182.7,
          220.7,
          191.8,
          204.2,
          196.4,
          344.4
         ],
         "yaxis": "y"
        },
        {
         "alignmentgroup": "True",
         "hovertemplate": "Period=Autumn<br>Year=%{x}<extra></extra>",
         "legendgroup": "Autumn",
         "marker": {
          "color": "#8C564B",
          "symbol": "circle"
         },
         "name": "Autumn",
         "notched": true,
         "offsetgroup": "Autumn",
         "showlegend": false,
         "type": "box",
         "x": [
          2010,
          2011,
          2012,
          2013,
          2014,
          2015,
          2016,
          2017,
          2018,
          2019
         ],
         "xaxis": "x3",
         "yaxis": "y3"
        },
        {
         "alignmentgroup": "True",
         "hovertemplate": "Period=Autumn<br>Avg rainfall(in mm)=%{y}<extra></extra>",
         "legendgroup": "Autumn",
         "marker": {
          "color": "#8C564B",
          "symbol": "circle"
         },
         "name": "Autumn",
         "offsetgroup": "Autumn",
         "scalegroup": "y",
         "showlegend": false,
         "type": "violin",
         "xaxis": "x2",
         "y": [
          267.2,
          140.9,
          293.5,
          208.1,
          182.7,
          220.7,
          191.8,
          204.2,
          196.4,
          344.4
         ],
         "yaxis": "y2"
        },
        {
         "hovertemplate": "<b>OLS trendline</b><br>Avg rainfall(in mm) = 3.79333 * Year + -7416.68<br>R<sup>2</sup>=0.036812<br><br>Period=Autumn<br>Year=%{x}<br>Avg rainfall(in mm)=%{y} <b>(trend)</b><extra></extra>",
         "legendgroup": "Autumn",
         "marker": {
          "color": "#8C564B",
          "symbol": "circle"
         },
         "mode": "lines",
         "name": "Autumn",
         "showlegend": false,
         "type": "scatter",
         "x": [
          2010,
          2011,
          2012,
          2013,
          2014,
          2015,
          2016,
          2017,
          2018,
          2019
         ],
         "xaxis": "x",
         "y": [
          207.91999999999553,
          211.71333333332768,
          215.50666666665984,
          219.2999999999911,
          223.09333333332324,
          226.8866666666554,
          230.67999999998665,
          234.4733333333188,
          238.26666666665096,
          242.0599999999822
         ],
         "yaxis": "y"
        },
        {
         "hovertemplate": "Period=Annual<br>Year=%{x}<br>Avg rainfall(in mm)=%{y}<extra></extra>",
         "legendgroup": "Annual",
         "marker": {
          "color": "#E377C2",
          "symbol": "circle"
         },
         "mode": "markers",
         "name": "Annual",
         "orientation": "v",
         "showlegend": true,
         "type": "scatter",
         "x": [
          2010,
          2011,
          2012,
          2013,
          2014,
          2015,
          2016,
          2017,
          2018,
          2019
         ],
         "xaxis": "x",
         "y": [
          738.3,
          661.7,
          1043,
          705.5,
          831.2,
          815.5,
          778.2,
          754.5,
          721.6,
          905.9
         ],
         "yaxis": "y"
        },
        {
         "alignmentgroup": "True",
         "hovertemplate": "Period=Annual<br>Year=%{x}<extra></extra>",
         "legendgroup": "Annual",
         "marker": {
          "color": "#E377C2",
          "symbol": "circle"
         },
         "name": "Annual",
         "notched": true,
         "offsetgroup": "Annual",
         "showlegend": false,
         "type": "box",
         "x": [
          2010,
          2011,
          2012,
          2013,
          2014,
          2015,
          2016,
          2017,
          2018,
          2019
         ],
         "xaxis": "x3",
         "yaxis": "y3"
        },
        {
         "alignmentgroup": "True",
         "hovertemplate": "Period=Annual<br>Avg rainfall(in mm)=%{y}<extra></extra>",
         "legendgroup": "Annual",
         "marker": {
          "color": "#E377C2",
          "symbol": "circle"
         },
         "name": "Annual",
         "offsetgroup": "Annual",
         "scalegroup": "y",
         "showlegend": false,
         "type": "violin",
         "xaxis": "x2",
         "y": [
          738.3,
          661.7,
          1043,
          705.5,
          831.2,
          815.5,
          778.2,
          754.5,
          721.6,
          905.9
         ],
         "yaxis": "y2"
        },
        {
         "hovertemplate": "<b>OLS trendline</b><br>Avg rainfall(in mm) = 4.16727 * Year + -7599.43<br>R<sup>2</sup>=0.012811<br><br>Period=Annual<br>Year=%{x}<br>Avg rainfall(in mm)=%{y} <b>(trend)</b><extra></extra>",
         "legendgroup": "Annual",
         "marker": {
          "color": "#E377C2",
          "symbol": "circle"
         },
         "mode": "lines",
         "name": "Annual",
         "showlegend": false,
         "type": "scatter",
         "x": [
          2010,
          2011,
          2012,
          2013,
          2014,
          2015,
          2016,
          2017,
          2018,
          2019
         ],
         "xaxis": "x",
         "y": [
          776.7872727272661,
          780.9545454545405,
          785.1218181818131,
          789.2890909090856,
          793.45636363636,
          797.6236363636326,
          801.7909090909052,
          805.9581818181796,
          810.1254545454522,
          814.2927272727247
         ],
         "yaxis": "y"
        }
       ],
       "layout": {
        "legend": {
         "title": {
          "text": "Period"
         },
         "tracegroupgap": 0
        },
        "margin": {
         "t": 60
        },
        "template": {
         "data": {
          "bar": [
           {
            "error_x": {
             "color": "rgb(36,36,36)"
            },
            "error_y": {
             "color": "rgb(36,36,36)"
            },
            "marker": {
             "line": {
              "color": "white",
              "width": 0.5
             },
             "pattern": {
              "fillmode": "overlay",
              "size": 10,
              "solidity": 0.2
             }
            },
            "type": "bar"
           }
          ],
          "barpolar": [
           {
            "marker": {
             "line": {
              "color": "white",
              "width": 0.5
             },
             "pattern": {
              "fillmode": "overlay",
              "size": 10,
              "solidity": 0.2
             }
            },
            "type": "barpolar"
           }
          ],
          "carpet": [
           {
            "aaxis": {
             "endlinecolor": "rgb(36,36,36)",
             "gridcolor": "white",
             "linecolor": "white",
             "minorgridcolor": "white",
             "startlinecolor": "rgb(36,36,36)"
            },
            "baxis": {
             "endlinecolor": "rgb(36,36,36)",
             "gridcolor": "white",
             "linecolor": "white",
             "minorgridcolor": "white",
             "startlinecolor": "rgb(36,36,36)"
            },
            "type": "carpet"
           }
          ],
          "choropleth": [
           {
            "colorbar": {
             "outlinewidth": 1,
             "tickcolor": "rgb(36,36,36)",
             "ticks": "outside"
            },
            "type": "choropleth"
           }
          ],
          "contour": [
           {
            "colorbar": {
             "outlinewidth": 1,
             "tickcolor": "rgb(36,36,36)",
             "ticks": "outside"
            },
            "colorscale": [
             [
              0,
              "#440154"
             ],
             [
              0.1111111111111111,
              "#482878"
             ],
             [
              0.2222222222222222,
              "#3e4989"
             ],
             [
              0.3333333333333333,
              "#31688e"
             ],
             [
              0.4444444444444444,
              "#26828e"
             ],
             [
              0.5555555555555556,
              "#1f9e89"
             ],
             [
              0.6666666666666666,
              "#35b779"
             ],
             [
              0.7777777777777778,
              "#6ece58"
             ],
             [
              0.8888888888888888,
              "#b5de2b"
             ],
             [
              1,
              "#fde725"
             ]
            ],
            "type": "contour"
           }
          ],
          "contourcarpet": [
           {
            "colorbar": {
             "outlinewidth": 1,
             "tickcolor": "rgb(36,36,36)",
             "ticks": "outside"
            },
            "type": "contourcarpet"
           }
          ],
          "heatmap": [
           {
            "colorbar": {
             "outlinewidth": 1,
             "tickcolor": "rgb(36,36,36)",
             "ticks": "outside"
            },
            "colorscale": [
             [
              0,
              "#440154"
             ],
             [
              0.1111111111111111,
              "#482878"
             ],
             [
              0.2222222222222222,
              "#3e4989"
             ],
             [
              0.3333333333333333,
              "#31688e"
             ],
             [
              0.4444444444444444,
              "#26828e"
             ],
             [
              0.5555555555555556,
              "#1f9e89"
             ],
             [
              0.6666666666666666,
              "#35b779"
             ],
             [
              0.7777777777777778,
              "#6ece58"
             ],
             [
              0.8888888888888888,
              "#b5de2b"
             ],
             [
              1,
              "#fde725"
             ]
            ],
            "type": "heatmap"
           }
          ],
          "heatmapgl": [
           {
            "colorbar": {
             "outlinewidth": 1,
             "tickcolor": "rgb(36,36,36)",
             "ticks": "outside"
            },
            "colorscale": [
             [
              0,
              "#440154"
             ],
             [
              0.1111111111111111,
              "#482878"
             ],
             [
              0.2222222222222222,
              "#3e4989"
             ],
             [
              0.3333333333333333,
              "#31688e"
             ],
             [
              0.4444444444444444,
              "#26828e"
             ],
             [
              0.5555555555555556,
              "#1f9e89"
             ],
             [
              0.6666666666666666,
              "#35b779"
             ],
             [
              0.7777777777777778,
              "#6ece58"
             ],
             [
              0.8888888888888888,
              "#b5de2b"
             ],
             [
              1,
              "#fde725"
             ]
            ],
            "type": "heatmapgl"
           }
          ],
          "histogram": [
           {
            "marker": {
             "line": {
              "color": "white",
              "width": 0.6
             }
            },
            "type": "histogram"
           }
          ],
          "histogram2d": [
           {
            "colorbar": {
             "outlinewidth": 1,
             "tickcolor": "rgb(36,36,36)",
             "ticks": "outside"
            },
            "colorscale": [
             [
              0,
              "#440154"
             ],
             [
              0.1111111111111111,
              "#482878"
             ],
             [
              0.2222222222222222,
              "#3e4989"
             ],
             [
              0.3333333333333333,
              "#31688e"
             ],
             [
              0.4444444444444444,
              "#26828e"
             ],
             [
              0.5555555555555556,
              "#1f9e89"
             ],
             [
              0.6666666666666666,
              "#35b779"
             ],
             [
              0.7777777777777778,
              "#6ece58"
             ],
             [
              0.8888888888888888,
              "#b5de2b"
             ],
             [
              1,
              "#fde725"
             ]
            ],
            "type": "histogram2d"
           }
          ],
          "histogram2dcontour": [
           {
            "colorbar": {
             "outlinewidth": 1,
             "tickcolor": "rgb(36,36,36)",
             "ticks": "outside"
            },
            "colorscale": [
             [
              0,
              "#440154"
             ],
             [
              0.1111111111111111,
              "#482878"
             ],
             [
              0.2222222222222222,
              "#3e4989"
             ],
             [
              0.3333333333333333,
              "#31688e"
             ],
             [
              0.4444444444444444,
              "#26828e"
             ],
             [
              0.5555555555555556,
              "#1f9e89"
             ],
             [
              0.6666666666666666,
              "#35b779"
             ],
             [
              0.7777777777777778,
              "#6ece58"
             ],
             [
              0.8888888888888888,
              "#b5de2b"
             ],
             [
              1,
              "#fde725"
             ]
            ],
            "type": "histogram2dcontour"
           }
          ],
          "mesh3d": [
           {
            "colorbar": {
             "outlinewidth": 1,
             "tickcolor": "rgb(36,36,36)",
             "ticks": "outside"
            },
            "type": "mesh3d"
           }
          ],
          "parcoords": [
           {
            "line": {
             "colorbar": {
              "outlinewidth": 1,
              "tickcolor": "rgb(36,36,36)",
              "ticks": "outside"
             }
            },
            "type": "parcoords"
           }
          ],
          "pie": [
           {
            "automargin": true,
            "type": "pie"
           }
          ],
          "scatter": [
           {
            "marker": {
             "colorbar": {
              "outlinewidth": 1,
              "tickcolor": "rgb(36,36,36)",
              "ticks": "outside"
             }
            },
            "type": "scatter"
           }
          ],
          "scatter3d": [
           {
            "line": {
             "colorbar": {
              "outlinewidth": 1,
              "tickcolor": "rgb(36,36,36)",
              "ticks": "outside"
             }
            },
            "marker": {
             "colorbar": {
              "outlinewidth": 1,
              "tickcolor": "rgb(36,36,36)",
              "ticks": "outside"
             }
            },
            "type": "scatter3d"
           }
          ],
          "scattercarpet": [
           {
            "marker": {
             "colorbar": {
              "outlinewidth": 1,
              "tickcolor": "rgb(36,36,36)",
              "ticks": "outside"
             }
            },
            "type": "scattercarpet"
           }
          ],
          "scattergeo": [
           {
            "marker": {
             "colorbar": {
              "outlinewidth": 1,
              "tickcolor": "rgb(36,36,36)",
              "ticks": "outside"
             }
            },
            "type": "scattergeo"
           }
          ],
          "scattergl": [
           {
            "marker": {
             "colorbar": {
              "outlinewidth": 1,
              "tickcolor": "rgb(36,36,36)",
              "ticks": "outside"
             }
            },
            "type": "scattergl"
           }
          ],
          "scattermapbox": [
           {
            "marker": {
             "colorbar": {
              "outlinewidth": 1,
              "tickcolor": "rgb(36,36,36)",
              "ticks": "outside"
             }
            },
            "type": "scattermapbox"
           }
          ],
          "scatterpolar": [
           {
            "marker": {
             "colorbar": {
              "outlinewidth": 1,
              "tickcolor": "rgb(36,36,36)",
              "ticks": "outside"
             }
            },
            "type": "scatterpolar"
           }
          ],
          "scatterpolargl": [
           {
            "marker": {
             "colorbar": {
              "outlinewidth": 1,
              "tickcolor": "rgb(36,36,36)",
              "ticks": "outside"
             }
            },
            "type": "scatterpolargl"
           }
          ],
          "scatterternary": [
           {
            "marker": {
             "colorbar": {
              "outlinewidth": 1,
              "tickcolor": "rgb(36,36,36)",
              "ticks": "outside"
             }
            },
            "type": "scatterternary"
           }
          ],
          "surface": [
           {
            "colorbar": {
             "outlinewidth": 1,
             "tickcolor": "rgb(36,36,36)",
             "ticks": "outside"
            },
            "colorscale": [
             [
              0,
              "#440154"
             ],
             [
              0.1111111111111111,
              "#482878"
             ],
             [
              0.2222222222222222,
              "#3e4989"
             ],
             [
              0.3333333333333333,
              "#31688e"
             ],
             [
              0.4444444444444444,
              "#26828e"
             ],
             [
              0.5555555555555556,
              "#1f9e89"
             ],
             [
              0.6666666666666666,
              "#35b779"
             ],
             [
              0.7777777777777778,
              "#6ece58"
             ],
             [
              0.8888888888888888,
              "#b5de2b"
             ],
             [
              1,
              "#fde725"
             ]
            ],
            "type": "surface"
           }
          ],
          "table": [
           {
            "cells": {
             "fill": {
              "color": "rgb(237,237,237)"
             },
             "line": {
              "color": "white"
             }
            },
            "header": {
             "fill": {
              "color": "rgb(217,217,217)"
             },
             "line": {
              "color": "white"
             }
            },
            "type": "table"
           }
          ]
         },
         "layout": {
          "annotationdefaults": {
           "arrowhead": 0,
           "arrowwidth": 1
          },
          "autotypenumbers": "strict",
          "coloraxis": {
           "colorbar": {
            "outlinewidth": 1,
            "tickcolor": "rgb(36,36,36)",
            "ticks": "outside"
           }
          },
          "colorscale": {
           "diverging": [
            [
             0,
             "rgb(103,0,31)"
            ],
            [
             0.1,
             "rgb(178,24,43)"
            ],
            [
             0.2,
             "rgb(214,96,77)"
            ],
            [
             0.3,
             "rgb(244,165,130)"
            ],
            [
             0.4,
             "rgb(253,219,199)"
            ],
            [
             0.5,
             "rgb(247,247,247)"
            ],
            [
             0.6,
             "rgb(209,229,240)"
            ],
            [
             0.7,
             "rgb(146,197,222)"
            ],
            [
             0.8,
             "rgb(67,147,195)"
            ],
            [
             0.9,
             "rgb(33,102,172)"
            ],
            [
             1,
             "rgb(5,48,97)"
            ]
           ],
           "sequential": [
            [
             0,
             "#440154"
            ],
            [
             0.1111111111111111,
             "#482878"
            ],
            [
             0.2222222222222222,
             "#3e4989"
            ],
            [
             0.3333333333333333,
             "#31688e"
            ],
            [
             0.4444444444444444,
             "#26828e"
            ],
            [
             0.5555555555555556,
             "#1f9e89"
            ],
            [
             0.6666666666666666,
             "#35b779"
            ],
            [
             0.7777777777777778,
             "#6ece58"
            ],
            [
             0.8888888888888888,
             "#b5de2b"
            ],
            [
             1,
             "#fde725"
            ]
           ],
           "sequentialminus": [
            [
             0,
             "#440154"
            ],
            [
             0.1111111111111111,
             "#482878"
            ],
            [
             0.2222222222222222,
             "#3e4989"
            ],
            [
             0.3333333333333333,
             "#31688e"
            ],
            [
             0.4444444444444444,
             "#26828e"
            ],
            [
             0.5555555555555556,
             "#1f9e89"
            ],
            [
             0.6666666666666666,
             "#35b779"
            ],
            [
             0.7777777777777778,
             "#6ece58"
            ],
            [
             0.8888888888888888,
             "#b5de2b"
            ],
            [
             1,
             "#fde725"
            ]
           ]
          },
          "colorway": [
           "#1F77B4",
           "#FF7F0E",
           "#2CA02C",
           "#D62728",
           "#9467BD",
           "#8C564B",
           "#E377C2",
           "#7F7F7F",
           "#BCBD22",
           "#17BECF"
          ],
          "font": {
           "color": "rgb(36,36,36)"
          },
          "geo": {
           "bgcolor": "white",
           "lakecolor": "white",
           "landcolor": "white",
           "showlakes": true,
           "showland": true,
           "subunitcolor": "white"
          },
          "hoverlabel": {
           "align": "left"
          },
          "hovermode": "closest",
          "mapbox": {
           "style": "light"
          },
          "paper_bgcolor": "white",
          "plot_bgcolor": "white",
          "polar": {
           "angularaxis": {
            "gridcolor": "rgb(232,232,232)",
            "linecolor": "rgb(36,36,36)",
            "showgrid": false,
            "showline": true,
            "ticks": "outside"
           },
           "bgcolor": "white",
           "radialaxis": {
            "gridcolor": "rgb(232,232,232)",
            "linecolor": "rgb(36,36,36)",
            "showgrid": false,
            "showline": true,
            "ticks": "outside"
           }
          },
          "scene": {
           "xaxis": {
            "backgroundcolor": "white",
            "gridcolor": "rgb(232,232,232)",
            "gridwidth": 2,
            "linecolor": "rgb(36,36,36)",
            "showbackground": true,
            "showgrid": false,
            "showline": true,
            "ticks": "outside",
            "zeroline": false,
            "zerolinecolor": "rgb(36,36,36)"
           },
           "yaxis": {
            "backgroundcolor": "white",
            "gridcolor": "rgb(232,232,232)",
            "gridwidth": 2,
            "linecolor": "rgb(36,36,36)",
            "showbackground": true,
            "showgrid": false,
            "showline": true,
            "ticks": "outside",
            "zeroline": false,
            "zerolinecolor": "rgb(36,36,36)"
           },
           "zaxis": {
            "backgroundcolor": "white",
            "gridcolor": "rgb(232,232,232)",
            "gridwidth": 2,
            "linecolor": "rgb(36,36,36)",
            "showbackground": true,
            "showgrid": false,
            "showline": true,
            "ticks": "outside",
            "zeroline": false,
            "zerolinecolor": "rgb(36,36,36)"
           }
          },
          "shapedefaults": {
           "fillcolor": "black",
           "line": {
            "width": 0
           },
           "opacity": 0.3
          },
          "ternary": {
           "aaxis": {
            "gridcolor": "rgb(232,232,232)",
            "linecolor": "rgb(36,36,36)",
            "showgrid": false,
            "showline": true,
            "ticks": "outside"
           },
           "baxis": {
            "gridcolor": "rgb(232,232,232)",
            "linecolor": "rgb(36,36,36)",
            "showgrid": false,
            "showline": true,
            "ticks": "outside"
           },
           "bgcolor": "white",
           "caxis": {
            "gridcolor": "rgb(232,232,232)",
            "linecolor": "rgb(36,36,36)",
            "showgrid": false,
            "showline": true,
            "ticks": "outside"
           }
          },
          "title": {
           "x": 0.05
          },
          "xaxis": {
           "automargin": true,
           "gridcolor": "rgb(232,232,232)",
           "linecolor": "rgb(36,36,36)",
           "showgrid": false,
           "showline": true,
           "ticks": "outside",
           "title": {
            "standoff": 15
           },
           "zeroline": false,
           "zerolinecolor": "rgb(36,36,36)"
          },
          "yaxis": {
           "automargin": true,
           "gridcolor": "rgb(232,232,232)",
           "linecolor": "rgb(36,36,36)",
           "showgrid": false,
           "showline": true,
           "ticks": "outside",
           "title": {
            "standoff": 15
           },
           "zeroline": false,
           "zerolinecolor": "rgb(36,36,36)"
          }
         }
        },
        "xaxis": {
         "anchor": "y",
         "domain": [
          0,
          0.7363
         ],
         "title": {
          "text": "Year"
         }
        },
        "xaxis2": {
         "anchor": "y2",
         "domain": [
          0.7413,
          1
         ],
         "matches": "x2",
         "showline": false,
         "showticklabels": false,
         "ticks": ""
        },
        "xaxis3": {
         "anchor": "y3",
         "domain": [
          0,
          0.7363
         ],
         "matches": "x",
         "showticklabels": false
        },
        "xaxis4": {
         "anchor": "y4",
         "domain": [
          0.7413,
          1
         ],
         "matches": "x2",
         "showline": false,
         "showticklabels": false,
         "ticks": ""
        },
        "yaxis": {
         "anchor": "x",
         "domain": [
          0,
          0.7326
         ],
         "title": {
          "text": "Avg rainfall(in mm)"
         }
        },
        "yaxis2": {
         "anchor": "x2",
         "domain": [
          0,
          0.7326
         ],
         "matches": "y",
         "showticklabels": false
        },
        "yaxis3": {
         "anchor": "x3",
         "domain": [
          0.7426,
          1
         ],
         "matches": "y3",
         "showline": false,
         "showticklabels": false,
         "ticks": ""
        },
        "yaxis4": {
         "anchor": "x4",
         "domain": [
          0.7426,
          1
         ],
         "matches": "y3",
         "showline": false,
         "showticklabels": false,
         "ticks": ""
        }
       }
      }
     },
     "metadata": {},
     "output_type": "display_data"
    }
   ],
   "source": [
    "import plotly.express as px\n",
    "fig = px.scatter(df, x=\"Year\", y=\"Avg rainfall(in mm)\", color=\"Period\", marginal_y=\"violin\",\n",
    "                 marginal_x=\"box\", trendline=\"ols\", template=\"simple_white\")\n",
    "fig.show()"
   ]
  },
  {
   "cell_type": "code",
   "execution_count": null,
   "metadata": {},
   "outputs": [],
   "source": []
  }
 ],
 "metadata": {
  "interpreter": {
   "hash": "e626341f7d273a073ca6760d51f453142864e91a54b48c38f50eacc9d94e2c4c"
  },
  "kernelspec": {
   "display_name": "Python 3.10.0 64-bit",
   "language": "python",
   "name": "python3"
  },
  "language_info": {
   "codemirror_mode": {
    "name": "ipython",
    "version": 3
   },
   "file_extension": ".py",
   "mimetype": "text/x-python",
   "name": "python",
   "nbconvert_exporter": "python",
   "pygments_lexer": "ipython3",
   "version": "3.10.0"
  },
  "orig_nbformat": 4
 },
 "nbformat": 4,
 "nbformat_minor": 2
}
