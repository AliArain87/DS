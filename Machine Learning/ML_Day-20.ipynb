{
 "cells": [
  {
   "cell_type": "markdown",
   "metadata": {},
   "source": [
    "#Supervised learning\n",
    "\n",
    "In supervised learning, the machine is taught by example. The operator provides the machine learning algorithm with a known dataset that includes desired inputs and outputs, and the algorithm must find a method to determine how to arrive at those inputs and outputs. While the operator knows the correct answers to the problem, the algorithm identifies patterns in data, learns from observations and makes predictions. The algorithm makes predictions and is corrected by the operator – and this process continues until the algorithm achieves a high level of accuracy/performance.\n",
    "\n",
    "Under the umbrella of supervised learning fall: Classification, Regression and Forecasting.\n",
    "\n",
    "'Classification:' In classification tasks, the machine learning program must draw a conclusion from observed values and determine to\n",
    "what category new observations belong. For example, when filtering emails as ‘spam’ or ‘not spam’, the program must look at existing observational data and filter the emails accordingly.\n",
    "Regression: In regression tasks, the machine learning program must estimate – and understand – the relationships among variables. Regression analysis focuses on one dependent variable and a series of other changing variables – making it particularly useful for prediction and forecasting.\n",
    "Forecasting: Forecasting is the process of making predictions about the future based on the past and present data, and is commonly used to analyse trends.\n",
    "\n",
    "#Semi-supervised learning\n",
    "\n",
    "Semi-supervised learning is similar to supervised learning, but instead uses both labelled and unlabelled data. Labelled data is essentially information that has meaningful tags so that the algorithm can understand the data, whilst unlabelled data lacks that information. By using this\n",
    "combination, machine learning algorithms can learn to label unlabelled data.\n",
    "\n",
    "#Unsupervised learning\n",
    "\n",
    "Here, the machine learning algorithm studies data to identify patterns. There is no answer key or human operator to provide instruction. Instead, the machine determines the correlations and relationships by analysing available data. In an unsupervised learning process, the machine learning algorithm is left to interpret large data sets and address that data accordingly. The algorithm tries to organise that data in some way to describe its structure. This might mean grouping the data into clusters or arranging it in a way that looks more organised.\n",
    "\n",
    "As it assesses more data, its ability to make decisions on that data gradually improves and becomes more refined.\n",
    "\n",
    "Under the umbrella of unsupervised learning, fall:\n",
    "\n",
    "'Clustering:' Clustering involves grouping sets of similar data (based on defined criteria). It’s useful for segmenting data into several groups and performing analysis on each data set to find patterns.\n",
    "Dimension reduction: Dimension reduction reduces the number of variables being considered to find the exact information required.\n",
    "\n",
    "#Reinforcement learning\n",
    "\n",
    "Reinforcement learning focuses on regimented learning processes, where a machine learning algorithm is provided with a set of actions, parameters and end values. By defining the rules, the machine learning algorithm then tries to explore different options and possibilities, monitoring and evaluating each result to determine which one is optimal. Reinforcement learning teaches the machine trial and error. It learns from past experiences and begins to adapt its approach in response to the situation to achieve the best possible result."
   ]
  },
  {
   "cell_type": "code",
   "execution_count": null,
   "metadata": {},
   "outputs": [],
   "source": []
  }
 ],
 "metadata": {
  "language_info": {
   "name": "python"
  },
  "orig_nbformat": 4
 },
 "nbformat": 4,
 "nbformat_minor": 2
}
