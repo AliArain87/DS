{
 "cells": [
  {
   "cell_type": "markdown",
   "id": "93f18e6e",
   "metadata": {},
   "source": [
    "#headings\n",
    "# Heading1"
   ]
  },
  {
   "cell_type": "markdown",
   "id": "f7f03ebc",
   "metadata": {},
   "source": [
    "## Heading2"
   ]
  },
  {
   "cell_type": "markdown",
   "id": "c920b1e3",
   "metadata": {},
   "source": [
    "### Heading3"
   ]
  },
  {
   "cell_type": "markdown",
   "id": "a6e3063d",
   "metadata": {},
   "source": [
    "#### Heading 4"
   ]
  },
  {
   "cell_type": "markdown",
   "id": "2fcdf4e1",
   "metadata": {},
   "source": [
    "# 1- Heading"
   ]
  },
  {
   "cell_type": "code",
   "execution_count": null,
   "id": "fe589096",
   "metadata": {},
   "outputs": [],
   "source": []
  },
  {
   "cell_type": "markdown",
   "id": "12d16bcd",
   "metadata": {},
   "source": [
    "# 2- Block of Words"
   ]
  },
  {
   "cell_type": "markdown",
   "id": "0d599c05",
   "metadata": {},
   "source": [
    "This is a nor,al text in markdown"
   ]
  },
  {
   "cell_type": "markdown",
   "id": "ff3a94a8",
   "metadata": {},
   "source": [
    "> This is a block of special text"
   ]
  },
  {
   "cell_type": "markdown",
   "id": "592e7b2c",
   "metadata": {},
   "source": [
    "# 3- Line Breaks"
   ]
  },
  {
   "cell_type": "markdown",
   "id": "40e73259",
   "metadata": {},
   "source": [
    "This is a 40 days long course Data Science with Python AKA Python_ka_chilla_with_baba_aamar.\n",
    "\n",
    "This is a second line."
   ]
  },
  {
   "cell_type": "markdown",
   "id": "2f8ab28a",
   "metadata": {},
   "source": [
    "# 4- Combine two things"
   ]
  },
  {
   "cell_type": "markdown",
   "id": "d7ecd8e1",
   "metadata": {},
   "source": [
    "> ## heading2\n"
   ]
  },
  {
   "cell_type": "markdown",
   "id": "edeb1d24",
   "metadata": {},
   "source": [
    "# 5- Face of text"
   ]
  },
  {
   "cell_type": "markdown",
   "id": "20406d8f",
   "metadata": {},
   "source": [
    "**Bold**\n",
    "\n",
    "*Italic*\n",
    "\n",
    "***Bold and Italic***\n",
    "\n",
    "Or you can use these symbols\n",
    "_(Underscore)\n",
    "\n",
    "__Bold__\n",
    "\n",
    "_Italic_\n",
    "\n"
   ]
  },
  {
   "cell_type": "markdown",
   "id": "0cb32506",
   "metadata": {},
   "source": [
    "# 6- Bullet points/ lists"
   ]
  },
  {
   "cell_type": "markdown",
   "id": "1dc8f206",
   "metadata": {},
   "source": [
    "- Day-1\n",
    "- Day-2\n",
    "- Day-3\n",
    "- Day-4\n",
    "- Day-5\n",
    "- Day-6\n",
    "    -  Day-6a\n",
    "        - Day-6a1\n",
    "- Day-7\n",
    "- Day-8"
   ]
  },
  {
   "cell_type": "markdown",
   "id": "2ed2d813",
   "metadata": {},
   "source": [
    "# 7- Numeric List"
   ]
  },
  {
   "cell_type": "markdown",
   "id": "e9074728",
   "metadata": {},
   "source": [
    "1. Day1\n",
    "2. Day2\n",
    "3. Day3\n",
    "4. Day4\n",
    "5. Day5\n",
    "    5a. Day5a\n",
    "    "
   ]
  },
  {
   "cell_type": "markdown",
   "id": "713b0ac3",
   "metadata": {},
   "source": [
    "# Using * or +"
   ]
  },
  {
   "cell_type": "markdown",
   "id": "eadc86d5",
   "metadata": {},
   "source": [
    "* One\n",
    "+ Two"
   ]
  },
  {
   "cell_type": "markdown",
   "id": "edc4d755",
   "metadata": {},
   "source": [
    "# 8- Line Breaks or Page Breaks"
   ]
  },
  {
   "cell_type": "markdown",
   "id": "f1b402fd",
   "metadata": {},
   "source": [
    "This is a page 1.\n",
    "\n",
    "---\n",
    "___\n",
    "***\n",
    "\n",
    "This is a page 2."
   ]
  },
  {
   "cell_type": "markdown",
   "id": "474c3eab",
   "metadata": {},
   "source": [
    "# 9- Links and Hyderperlinks"
   ]
  },
  {
   "cell_type": "markdown",
   "id": "29841fbc",
   "metadata": {},
   "source": [
    "<http://localhost:8888/tree/Desktop/Chilla/MarkDown>"
   ]
  },
  {
   "cell_type": "markdown",
   "id": "4ea8c1ba",
   "metadata": {},
   "source": [
    "[The playlist of python ka chilla is ](http://localhost:8888/notebooks/Desktop/Chilla/MarkDown/Markdown.ipynb)"
   ]
  },
  {
   "cell_type": "markdown",
   "id": "c8a7c014",
   "metadata": {},
   "source": [
    "[Codanics]: http://localhost:8888/notebooks/Desktop/Chilla/MarkDown/Markdown.ipynb"
   ]
  },
  {
   "cell_type": "markdown",
   "id": "96186e9b",
   "metadata": {},
   "source": [
    "This whole course link is [here][Codanics]"
   ]
  },
  {
   "cell_type": "markdown",
   "id": "263c6cf7",
   "metadata": {},
   "source": [
    "# 9- Images and Figures with link"
   ]
  },
  {
   "cell_type": "markdown",
   "id": "5312ae9f",
   "metadata": {},
   "source": [
    "To join this course please scan the following QR code and join code telegram group:\n",
    "    [QR](qr.png)"
   ]
  },
  {
   "cell_type": "markdown",
   "id": "27ab77ba",
   "metadata": {},
   "source": [
    "# 10- Adding code or code block"
   ]
  },
  {
   "cell_type": "markdown",
   "id": "4e3caf87",
   "metadata": {},
   "source": [
    "To print a string use 'print(\"Codanics\")'\n",
    "\n",
    "'Print(\"Hello Baba G\")'\n",
    "'''\n",
    "x = 5+6\n",
    "y=3-2\n",
    "z=x+y\n",
    "print(z)\n",
    "'''"
   ]
  },
  {
   "cell_type": "markdown",
   "id": "6b108b3e",
   "metadata": {},
   "source": [
    "# 11- Adding Tables"
   ]
  },
  {
   "cell_type": "markdown",
   "id": "61cd2182",
   "metadata": {},
   "source": [
    "| Species | Petal_Length | sepal_length |\n",
    "| ------- | | ---------  | | ---------- |\n",
    "| virginica| 18.2 | 19.2"
   ]
  },
  {
   "cell_type": "markdown",
   "id": "3d674b4e",
   "metadata": {},
   "source": [
    "# 12- Content"
   ]
  },
  {
   "cell_type": "markdown",
   "id": "33821415",
   "metadata": {},
   "source": [
    "[Headings](#1--Headings)"
   ]
  },
  {
   "cell_type": "markdown",
   "id": "2560c92d",
   "metadata": {},
   "source": [
    "# Intall Extension"
   ]
  },
  {
   "cell_type": "code",
   "execution_count": null,
   "id": "def793a0",
   "metadata": {},
   "outputs": [],
   "source": []
  }
 ],
 "metadata": {
  "kernelspec": {
   "display_name": "Python 3 (ipykernel)",
   "language": "python",
   "name": "python3"
  },
  "language_info": {
   "codemirror_mode": {
    "name": "ipython",
    "version": 3
   },
   "file_extension": ".py",
   "mimetype": "text/x-python",
   "name": "python",
   "nbconvert_exporter": "python",
   "pygments_lexer": "ipython3",
   "version": "3.9.7"
  }
 },
 "nbformat": 4,
 "nbformat_minor": 5
}
