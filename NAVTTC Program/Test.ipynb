{
 "cells": [
  {
   "cell_type": "markdown",
   "metadata": {},
   "source": [
    "# NAVTTC"
   ]
  },
  {
   "cell_type": "markdown",
   "metadata": {},
   "source": [
    "## Big Data Analytics"
   ]
  },
  {
   "cell_type": "markdown",
   "metadata": {},
   "source": [
    "## Tasks"
   ]
  },
  {
   "cell_type": "markdown",
   "metadata": {},
   "source": [
    "### Make a list and reverse it"
   ]
  },
  {
   "cell_type": "code",
   "execution_count": 1,
   "metadata": {},
   "outputs": [
    {
     "name": "stdout",
     "output_type": "stream",
     "text": [
      "Reversed List:  [5, 4, 3, 2, 1]\n"
     ]
    }
   ],
   "source": [
    "l = [1,2,3,4,5]\n",
    "l.reverse()\n",
    "print(\"Reversed List: \",l)"
   ]
  },
  {
   "cell_type": "markdown",
   "metadata": {},
   "source": [
    "### Write a program to add two lists index-wise. Create a new list that contains the 0th index item from both the list, then the 1st index item, and so on till the last element. any leftover items will get added at the end of the new list."
   ]
  },
  {
   "cell_type": "code",
   "execution_count": 2,
   "metadata": {},
   "outputs": [
    {
     "name": "stdout",
     "output_type": "stream",
     "text": [
      "The First list is [1, 2, 3, 4, 5]\n",
      "The Second list is [6, 7, 8, 9, 10]\n",
      "The New addition of list is [(1, 6), (2, 7), (3, 8), (4, 9), (5, 10)]\n"
     ]
    }
   ],
   "source": [
    "l1 = [1, 2, 3, 4, 5]\n",
    "l2 = [6, 7, 8, 9, 10]\n",
    "print(f\"The First list is {l1}\")\n",
    "print(f\"The Second list is {l2}\")\n",
    "nl = zip(l1, l2)\n",
    "print(f\"The New addition of list is {list(nl)}\")"
   ]
  },
  {
   "cell_type": "markdown",
   "metadata": {},
   "source": [
    "### Write a Python program to create a tuple"
   ]
  },
  {
   "cell_type": "code",
   "execution_count": 3,
   "metadata": {},
   "outputs": [
    {
     "data": {
      "text/plain": [
       "(1, 2, 3, 5, 5, 4)"
      ]
     },
     "execution_count": 3,
     "metadata": {},
     "output_type": "execute_result"
    }
   ],
   "source": [
    "t=(1,2,3,5,5,4)\n",
    "t"
   ]
  },
  {
   "cell_type": "markdown",
   "metadata": {},
   "source": [
    "### Write a Python program to create a tuple with different data types."
   ]
  },
  {
   "cell_type": "code",
   "execution_count": 4,
   "metadata": {},
   "outputs": [
    {
     "name": "stdout",
     "output_type": "stream",
     "text": [
      "(1, 3, ['Samosa', 'Gulabjamon', 'Pakore'], 1, 'Big', 1.1)\n"
     ]
    },
    {
     "data": {
      "text/plain": [
       "tuple"
      ]
     },
     "execution_count": 4,
     "metadata": {},
     "output_type": "execute_result"
    }
   ],
   "source": [
    "t=(1,3,['Samosa','Gulabjamon','Pakore'],1,'Big',1.1)\n",
    "print(t)\n",
    "type(t)"
   ]
  },
  {
   "cell_type": "markdown",
   "metadata": {},
   "source": [
    "### Write a Python program to create a tuple with numbers and print one item.\n"
   ]
  },
  {
   "cell_type": "code",
   "execution_count": 5,
   "metadata": {},
   "outputs": [
    {
     "name": "stdout",
     "output_type": "stream",
     "text": [
      "88\n"
     ]
    }
   ],
   "source": [
    "t = (44, 33, 77, 88, 11, 22, 44)\n",
    "print(t[3])"
   ]
  },
  {
   "cell_type": "markdown",
   "metadata": {},
   "source": [
    "### Write a Python program to unpack a tuple in several variables"
   ]
  },
  {
   "cell_type": "code",
   "execution_count": 6,
   "metadata": {},
   "outputs": [
    {
     "name": "stdout",
     "output_type": "stream",
     "text": [
      "The Tuple is ('A', 'B', 1, 2.2)\n",
      "And The unpack values are: \n",
      "A\n",
      "B\n",
      "1\n",
      "2.2\n"
     ]
    }
   ],
   "source": [
    "a = ('A', 'B', 1, 2.2)\n",
    "print(f\"The Tuple is {a}\")\n",
    "# for unpack the tuple \n",
    "(alphabate1, alphabate2, number1, number2) = a\n",
    "# Printing the unpack values:\n",
    "print(\"And The unpack values are: \")\n",
    "print(alphabate1)\n",
    "print(alphabate2)\n",
    "print(number1)\n",
    "print(number2)"
   ]
  },
  {
   "cell_type": "markdown",
   "metadata": {},
   "source": [
    "### Write a Python program to add an item in a tuple."
   ]
  },
  {
   "cell_type": "code",
   "execution_count": 7,
   "metadata": {},
   "outputs": [],
   "source": [
    "# we are not suppose to add items in tuple."
   ]
  },
  {
   "cell_type": "markdown",
   "metadata": {},
   "source": [
    "### Ask the user to type a four-digit number. And print it in words."
   ]
  },
  {
   "cell_type": "code",
   "execution_count": 8,
   "metadata": {},
   "outputs": [
    {
     "name": "stdout",
     "output_type": "stream",
     "text": [
      "The Convert Number into text is :\n",
      "One Two Three Four "
     ]
    }
   ],
   "source": [
    "numb= input(\"Enter 4-dgiit number: Like(1234) :- \")\n",
    "num = [a for a in numb] \n",
    "MyDict={\n",
    " \"0\" : \"Zero\",\n",
    " \"1\" : \"One\",\n",
    " \"2\" : \"Two\",\n",
    " \"3\" : \"Three\",\n",
    " \"4\" : \"Four\"\n",
    "}\n",
    "print(\"The Convert Number into text is :\")\n",
    "for i in range(len(num)):\n",
    " print(MyDict.get(str(num[i]))+' ',end='')"
   ]
  }
 ],
 "metadata": {
  "interpreter": {
   "hash": "e626341f7d273a073ca6760d51f453142864e91a54b48c38f50eacc9d94e2c4c"
  },
  "kernelspec": {
   "display_name": "Python 3.10.0 64-bit",
   "language": "python",
   "name": "python3"
  },
  "language_info": {
   "codemirror_mode": {
    "name": "ipython",
    "version": 3
   },
   "file_extension": ".py",
   "mimetype": "text/x-python",
   "name": "python",
   "nbconvert_exporter": "python",
   "pygments_lexer": "ipython3",
   "version": "3.10.0"
  },
  "orig_nbformat": 4
 },
 "nbformat": 4,
 "nbformat_minor": 2
}
