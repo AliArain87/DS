{
 "cells": [
  {
   "cell_type": "code",
   "execution_count": 1,
   "metadata": {},
   "outputs": [],
   "source": [
    "# reading an image and displaying it in gray scale\n",
    "# importing libraries\n",
    "# q is used to exit\n",
    "import cv2 as cv\n",
    "from cv2 import cvtColor\n",
    "\n",
    "img = cv.imread(\"Resources/GateM.jpg\")\n",
    "# size of image\n",
    "img1 = cv.resize(img, (800, 600))\n",
    "\n",
    "#Conversion\n",
    "gray_img = cvtColor(img, cv.COLOR_BGR2GRAY)\n",
    "\n",
    "cv.imshow(\"Original\", img)\n",
    "cv.imshow(\"Gray Image\", gray_img)\n",
    "# to wait for some millisecond\n",
    "cv.waitKey(0)\n",
    "# to close all windows\n",
    "cv.destroyAllWindows()\n"
   ]
  },
  {
   "cell_type": "code",
   "execution_count": null,
   "metadata": {},
   "outputs": [],
   "source": []
  }
 ],
 "metadata": {
  "interpreter": {
   "hash": "e626341f7d273a073ca6760d51f453142864e91a54b48c38f50eacc9d94e2c4c"
  },
  "kernelspec": {
   "display_name": "Python 3.10.0 64-bit",
   "language": "python",
   "name": "python3"
  },
  "language_info": {
   "codemirror_mode": {
    "name": "ipython",
    "version": 3
   },
   "file_extension": ".py",
   "mimetype": "text/x-python",
   "name": "python",
   "nbconvert_exporter": "python",
   "pygments_lexer": "ipython3",
   "version": "3.10.0"
  },
  "orig_nbformat": 4
 },
 "nbformat": 4,
 "nbformat_minor": 2
}
