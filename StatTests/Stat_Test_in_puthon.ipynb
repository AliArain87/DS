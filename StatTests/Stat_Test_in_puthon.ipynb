{
 "cells": [
  {
   "cell_type": "markdown",
   "metadata": {},
   "source": [
    "# Shapiro Wilk Test\n",
    "\n",
    "Tests whether a data sample has a Gaussian Distribution\n",
    "\n",
    "'Assumptions'\n",
    "\n",
    "    1. Observations in each sample are independent and identically distributed (iid).\n",
    "    2. Interpretation\n",
    "\n",
    "    1. H0: the sample has a Gaussian Normal Distribution\n",
    "    2. H1: the sample does not have a Gaussian/Normal distribution "
   ]
  },
  {
   "cell_type": "code",
   "execution_count": 1,
   "metadata": {},
   "outputs": [
    {
     "name": "stdout",
     "output_type": "stream",
     "text": [
      "Requirement already satisfied: scipy in c:\\users\\anonymous\\appdata\\local\\programs\\python\\python310\\lib\\site-packages (1.7.3)\n",
      "Requirement already satisfied: numpy<1.23.0,>=1.16.5 in c:\\users\\anonymous\\appdata\\local\\programs\\python\\python310\\lib\\site-packages (from scipy) (1.22.0)\n",
      "Note: you may need to restart the kernel to use updated packages.\n"
     ]
    },
    {
     "name": "stderr",
     "output_type": "stream",
     "text": [
      "WARNING: You are using pip version 21.2.3; however, version 21.3.1 is available.\n",
      "You should consider upgrading via the 'C:\\Users\\Anonymous\\AppData\\Local\\Programs\\Python\\Python310\\python.exe -m pip install --upgrade pip' command.\n"
     ]
    }
   ],
   "source": [
    "pip install scipy"
   ]
  },
  {
   "cell_type": "code",
   "execution_count": 2,
   "metadata": {},
   "outputs": [
    {
     "name": "stdout",
     "output_type": "stream",
     "text": [
      "stat=0.895,p=0.193\n",
      "Probably Gaussian or data is normal\n"
     ]
    }
   ],
   "source": [
    "# Example of the Shapiro Wilk Noramaility Test\n",
    "from scipy.stats import shapiro\n",
    "data = [0.873,2.817,0.121,-0.945,-0.055,-1.436,0.360,-1.478,-1.637,-1.869]\n",
    "stat, p=shapiro(data)\n",
    "print('stat=%.3f,p=%.3f' % (stat,p))\n",
    "if p>0.05:\n",
    "    print(\"Probably Gaussian or data is normal\")\n",
    "else:\n",
    "    print(\"Probably not Gaussian or data is not normal\")\n"
   ]
  },
  {
   "cell_type": "code",
   "execution_count": 4,
   "metadata": {},
   "outputs": [
    {
     "name": "stderr",
     "output_type": "stream",
     "text": [
      "C:\\Users\\Anonymous\\AppData\\Local\\Programs\\Python\\Python310\\lib\\site-packages\\seaborn\\_decorators.py:36: FutureWarning: Pass the following variable as a keyword arg: x. From version 0.12, the only valid positional argument will be `data`, and passing other arguments without an explicit keyword will result in an error or misinterpretation.\n",
      "  warnings.warn(\n"
     ]
    },
    {
     "data": {
      "text/plain": [
       "<AxesSubplot:xlabel='age'>"
      ]
     },
     "execution_count": 4,
     "metadata": {},
     "output_type": "execute_result"
    },
    {
     "data": {
      "image/png": "[encoded data removed]",
      "text/plain": [
       "<Figure size 432x288 with 1 Axes>"
      ]
     },
     "metadata": {
      "needs_background": "light"
     },
     "output_type": "display_data"
    }
   ],
   "source": [
    "import pandas as pd\n",
    "import numpy as np\n",
    "import seaborn as sns\n",
    "import matplotlib.pyplot as plt\n",
    "ks = sns.load_dataset(\"titanic\")\n",
    "sns.boxplot(ks['age'])\n"
   ]
  },
  {
   "cell_type": "code",
   "execution_count": 5,
   "metadata": {},
   "outputs": [
    {
     "name": "stderr",
     "output_type": "stream",
     "text": [
      "C:\\Users\\Anonymous\\AppData\\Local\\Programs\\Python\\Python310\\lib\\site-packages\\seaborn\\_decorators.py:36: FutureWarning: Pass the following variable as a keyword arg: x. From version 0.12, the only valid positional argument will be `data`, and passing other arguments without an explicit keyword will result in an error or misinterpretation.\n",
      "  warnings.warn(\n"
     ]
    },
    {
     "data": {
      "text/plain": [
       "<AxesSubplot:xlabel='age'>"
      ]
     },
     "execution_count": 5,
     "metadata": {},
     "output_type": "execute_result"
    },
    {
     "data": {
      "image/png": "[encoded data removed]",
      "text/plain": [
       "<Figure size 432x288 with 1 Axes>"
      ]
     },
     "metadata": {
      "needs_background": "light"
     },
     "output_type": "display_data"
    }
   ],
   "source": [
    "import pandas as pd\n",
    "import numpy as np\n",
    "import seaborn as sns\n",
    "import matplotlib.pyplot as plt\n",
    "ks = sns.load_dataset(\"titanic\")\n",
    "ks['age'].hist()\n",
    "sns.boxplot(ks['age'])\n"
   ]
  },
  {
   "cell_type": "code",
   "execution_count": 6,
   "metadata": {},
   "outputs": [
    {
     "name": "stdout",
     "output_type": "stream",
     "text": [
      "stat=nan,p=1.000\n",
      "Probably Gaussian or data is normal\n"
     ]
    }
   ],
   "source": [
    "# Example of the Shapiro Wilk Noramaility Test\n",
    "from scipy.stats import shapiro\n",
    "stat, p = shapiro(ks['age'])\n",
    "print('stat=%.3f,p=%.3f' % (stat, p))\n",
    "if p > 0.05:\n",
    "    print(\"Probably Gaussian or data is normal\")\n",
    "else:\n",
    "    print(\"Probably not Gaussian or data is not normal\")\n"
   ]
  },
  {
   "cell_type": "code",
   "execution_count": 8,
   "metadata": {},
   "outputs": [
    {
     "name": "stdout",
     "output_type": "stream",
     "text": [
      "stat=0.991,p=0.284\n",
      "Probably Gaussian or data is normal\n"
     ]
    },
    {
     "name": "stderr",
     "output_type": "stream",
     "text": [
      "C:\\Users\\Anonymous\\AppData\\Local\\Programs\\Python\\Python310\\lib\\site-packages\\seaborn\\_decorators.py:36: FutureWarning: Pass the following variable as a keyword arg: x. From version 0.12, the only valid positional argument will be `data`, and passing other arguments without an explicit keyword will result in an error or misinterpretation.\n",
      "  warnings.warn(\n"
     ]
    },
    {
     "data": {
      "image/png": "[encoded data removed]",
      "text/plain": [
       "<Figure size 432x288 with 1 Axes>"
      ]
     },
     "metadata": {
      "needs_background": "light"
     },
     "output_type": "display_data"
    }
   ],
   "source": [
    "# Example of the Shapiro Wilk Noramaility Test\n",
    "from scipy.stats import shapiro\n",
    "ks = ks.dropna()\n",
    "stat, p = shapiro(ks['age'])\n",
    "print('stat=%.3f,p=%.3f' % (stat, p))\n",
    "sns.boxplot(ks['age'])\n",
    "if p > 0.05:\n",
    "    print(\"Probably Gaussian or data is normal\")\n",
    "else:\n",
    "    print(\"Probably not Gaussian or data is not normal\")\n"
   ]
  },
  {
   "cell_type": "code",
   "execution_count": 9,
   "metadata": {},
   "outputs": [
    {
     "name": "stderr",
     "output_type": "stream",
     "text": [
      "C:\\Users\\Anonymous\\AppData\\Local\\Programs\\Python\\Python310\\lib\\site-packages\\seaborn\\_decorators.py:36: FutureWarning: Pass the following variable as a keyword arg: x. From version 0.12, the only valid positional argument will be `data`, and passing other arguments without an explicit keyword will result in an error or misinterpretation.\n",
      "  warnings.warn(\n"
     ]
    },
    {
     "data": {
      "text/plain": [
       "<AxesSubplot:xlabel='fare'>"
      ]
     },
     "execution_count": 9,
     "metadata": {},
     "output_type": "execute_result"
    },
    {
     "data": {
      "image/png": "[encoded data removed]",
      "text/plain": [
       "<Figure size 432x288 with 1 Axes>"
      ]
     },
     "metadata": {
      "needs_background": "light"
     },
     "output_type": "display_data"
    }
   ],
   "source": [
    "import pandas as pd\n",
    "import numpy as np\n",
    "import seaborn as sns\n",
    "import matplotlib.pyplot as plt\n",
    "ks = sns.load_dataset(\"titanic\")\n",
    "ks['fare'].hist()\n",
    "sns.boxplot(ks['fare'])\n"
   ]
  },
  {
   "cell_type": "code",
   "execution_count": 14,
   "metadata": {},
   "outputs": [
    {
     "name": "stdout",
     "output_type": "stream",
     "text": [
      "stat=0.743,p=0.000\n",
      "Probably not Gaussian or data is not normal\n"
     ]
    }
   ],
   "source": [
    "# Example of the Shapiro Wilk Noramaility Test\n",
    "from scipy.stats import shapiro\n",
    "stat, p = shapiro(ks['fare'])\n",
    "print('stat=%.3f,p=%.3f' % (stat, p))\n",
    "if p > 0.05:\n",
    "    print(\"Probably Gaussian or data is normal\")\n",
    "else:\n",
    "    print(\"Probably not Gaussian or data is not normal\")\n"
   ]
  },
  {
   "cell_type": "code",
   "execution_count": 15,
   "metadata": {},
   "outputs": [
    {
     "name": "stdout",
     "output_type": "stream",
     "text": [
      "stat=0.743,p=0.000\n",
      "Probably not Gaussian or data is not normal\n"
     ]
    },
    {
     "name": "stderr",
     "output_type": "stream",
     "text": [
      "C:\\Users\\Anonymous\\AppData\\Local\\Programs\\Python\\Python310\\lib\\site-packages\\seaborn\\_decorators.py:36: FutureWarning: Pass the following variable as a keyword arg: x. From version 0.12, the only valid positional argument will be `data`, and passing other arguments without an explicit keyword will result in an error or misinterpretation.\n",
      "  warnings.warn(\n"
     ]
    },
    {
     "data": {
      "image/png": "[encoded data removed]",
      "text/plain": [
       "<Figure size 432x288 with 1 Axes>"
      ]
     },
     "metadata": {
      "needs_background": "light"
     },
     "output_type": "display_data"
    }
   ],
   "source": [
    "# Example of the Shapiro Wilk Noramaility Test\n",
    "from scipy.stats import shapiro\n",
    "ks = ks.dropna()\n",
    "stat, p = shapiro(ks['fare'])\n",
    "print('stat=%.3f,p=%.3f' % (stat, p))\n",
    "sns.boxplot(ks['fare'])\n",
    "if p > 0.05:\n",
    "    print(\"Probably Gaussian or data is normal\")\n",
    "else:\n",
    "    print(\"Probably not Gaussian or data is not normal\")\n"
   ]
  },
  {
   "cell_type": "markdown",
   "metadata": {},
   "source": [
    "# 2- Correlation test\n",
    "\n",
    "## 1- Pearson's Correlation Coefficient\n",
    "\n",
    "Test whether two samples have a linear relationship\n",
    "\n",
    "'Assumptions'\n",
    "\n",
    "    1. Observations in each sample are independent and identically distributed (iid).\n",
    "    2. Observations in each sample are normal distributed\n",
    "    3. Observation in each sample have the same variance\n",
    "    4. Interpretation\n",
    "\n",
    "    1. H0: The two samples are independent.\\\n",
    "    2. H1: There is a dependency between the samples.\n"
   ]
  },
  {
   "cell_type": "code",
   "execution_count": 19,
   "metadata": {},
   "outputs": [
    {
     "name": "stdout",
     "output_type": "stream",
     "text": [
      "stat=0.688,p=0.028\n",
      "Probably dependent (Correlation exists)\n"
     ]
    }
   ],
   "source": [
    "# Example of the Pearson's Correlation test\n",
    "from scipy.stats import pearsonr\n",
    "data1 = [0.873, 2.817, 0.121, -0.945, -0.055, -\n",
    "        1.436, 0.360, -1.478, -1.637, -1.869]\n",
    "data2 = [0.353,3.517,0.125,-7.545,-0.555,-1.536,3.350,-1.578,-3.537,-1.579]\n",
    "stat, p = pearsonr(data1,data2)\n",
    "print('stat=%.3f,p=%.3f' % (stat, p))\n",
    "if p > 0.05:\n",
    "    print(\"Probably independent (No Correlation)\")\n",
    "else:\n",
    "    print(\"Probably dependent (Correlation exists)\")\n"
   ]
  },
  {
   "cell_type": "code",
   "execution_count": 20,
   "metadata": {},
   "outputs": [
    {
     "name": "stdout",
     "output_type": "stream",
     "text": [
      "stat=-0.091,p=0.223\n",
      "Probably independent (No Correlation)\n"
     ]
    }
   ],
   "source": [
    "# Example of the Pearson's Correlation test\n",
    "from scipy.stats import pearsonr\n",
    "stat, p = pearsonr(ks['age'], ks['fare'])\n",
    "print('stat=%.3f,p=%.3f' % (stat, p))\n",
    "if p > 0.05:\n",
    "    print(\"Probably independent (No Correlation)\")\n",
    "else:\n",
    "    print(\"Probably dependent (Correlation exists)\")\n"
   ]
  },
  {
   "cell_type": "markdown",
   "metadata": {},
   "source": [
    "# 2- Spearman's Rank Correlation\n",
    "\n",
    "Test whether two samples have a monotonic relationship\n",
    "\n",
    "'Assumptions'\n",
    "\n",
    "    1. Observations in each sample are independent and identically distributed (iid).\n",
    "    2. Observation in each sample can be ranked\n",
    "    3. Interpretation\n",
    "\n",
    "    1. H0: The two samples are independent.\\\n",
    "    2. H1: There is a dependency between the samples.\n"
   ]
  },
  {
   "cell_type": "code",
   "execution_count": 21,
   "metadata": {},
   "outputs": [
    {
     "name": "stdout",
     "output_type": "stream",
     "text": [
      "stat=0.855,p=0.002\n",
      "Probably dependent (Correlation exists)\n"
     ]
    }
   ],
   "source": [
    "# Example of the Spearman's Correlation test\n",
    "from scipy.stats import spearmanr\n",
    "data1 = [0.873, 2.817, 0.121, -0.945, -0.055, -\n",
    "         1.436, 0.360, -1.478, -1.637, -1.869]\n",
    "data2 = [0.353, 3.517, 0.125, -7.545, -\n",
    "         0.555, -1.536, 3.350, -1.578, -3.537, -1.579]\n",
    "stat, p = spearmanr(data1, data2)\n",
    "print('stat=%.3f,p=%.3f' % (stat, p))\n",
    "if p > 0.05:\n",
    "    print(\"Probably independent (No Correlation)\")\n",
    "else:\n",
    "    print(\"Probably dependent (Correlation exists)\")\n"
   ]
  },
  {
   "cell_type": "markdown",
   "metadata": {},
   "source": [
    "# 2- Chi-Squared Test\n",
    "\n",
    "Test whether two samples have a monotonic relationship\n",
    "\n",
    "'Assumptions'\n",
    "\n",
    "    Observations used un the calculation of the contingency table are independent 25 or more examples in each cell of the contingency table, Interpretation\n",
    "     \n",
    "    1. H0: The two samples are independent.\\\n",
    "    2. H1: There is a dependency between the samples.\n"
   ]
  },
  {
   "cell_type": "code",
   "execution_count": 23,
   "metadata": {},
   "outputs": [
    {
     "name": "stdout",
     "output_type": "stream",
     "text": [
      "stat=0.272,p=0.873\n",
      "Probably independent (No Correlation)\n"
     ]
    }
   ],
   "source": [
    "# Example of the Spearman's Correlation test\n",
    "from scipy.stats import chi2_contingency\n",
    "table = [[10,20,30],[6,9,17]]\n",
    "stat, p, dof, expected = chi2_contingency(table)\n",
    "print('stat=%.3f,p=%.3f' % (stat, p))\n",
    "if p > 0.05:\n",
    "    print(\"Probably independent (No Correlation)\")\n",
    "else:\n",
    "    print(\"Probably dependent (Correlation exists)\")\n"
   ]
  },
  {
   "cell_type": "markdown",
   "metadata": {},
   "source": [
    "# 3- Parametric Statistical Hypothesis Tests\n",
    "\n",
    "## 1- Student's t-test\n",
    "\n",
    "Test whether two samples have a linear relationship\n",
    "\n",
    "'Assumptions'\n",
    "\n",
    "    1. Observations in each sample are independent and identically distributed (iid).\n",
    "    2. Observations in each sample are normally distributed\n",
    "    3. Observation in each sample have the same variance\n",
    "    4. Interpretation\n",
    "\n",
    "    1. H0: The means of the samples are equal.\\\n",
    "    2. H1: The means of the samples are unequal.\n"
   ]
  },
  {
   "cell_type": "code",
   "execution_count": 24,
   "metadata": {},
   "outputs": [
    {
     "name": "stdout",
     "output_type": "stream",
     "text": [
      "stat=0.515,p=0.613\n",
      "Probably are same distribution\n"
     ]
    }
   ],
   "source": [
    "# Example of the Pearson's Correlation test\n",
    "from scipy.stats import ttest_ind\n",
    "data1 = [0.873, 2.817, 0.121, -0.945, -0.055, -\n",
    "         1.436, 0.360, -1.478, -1.637, -1.869]\n",
    "data2 = [0.353, 3.517, 0.125, -7.545, -\n",
    "         0.555, -1.536, 3.350, -1.578, -3.537, -1.579]\n",
    "stat, p = ttest_ind(data1, data2)\n",
    "print('stat=%.3f,p=%.3f' % (stat, p))\n",
    "if p > 0.05:\n",
    "    print(\"Probably are same distribution\")\n",
    "else:\n",
    "    print(\"Probably different distribution\")\n"
   ]
  },
  {
   "cell_type": "markdown",
   "metadata": {},
   "source": [
    "# 2- Paired Student's t-test\n",
    "\n",
    "Test whether two samples have a linear relationship\n",
    "\n",
    "'Assumptions'\n",
    "\n",
    "    1. Observations in each sample are independent and identically distributed (iid).\n",
    "    2. Observations in each sample are normally distributed\n",
    "    3. Observation in each sample have the same variance\n",
    "    4. Observations across each sample are paired\n",
    "    5. Interpretation\n",
    "\n",
    "    1. H0: The means of the samples are equal.\\\n",
    "    2. H1: The means of the samples are unequal.\n"
   ]
  },
  {
   "cell_type": "code",
   "execution_count": 25,
   "metadata": {},
   "outputs": [
    {
     "name": "stdout",
     "output_type": "stream",
     "text": [
      "stat=0.741,p=0.478\n",
      "Probably are same distribution\n"
     ]
    }
   ],
   "source": [
    "# Example of the Pearson's Correlation test\n",
    "from scipy.stats import ttest_rel\n",
    "data1 = [0.873, 2.817, 0.121, -0.945, -0.055, -\n",
    "         1.436, 0.360, -1.478, -1.637, -1.869]\n",
    "data2 = [0.353, 3.517, 0.125, -7.545, -\n",
    "         0.555, -1.536, 3.350, -1.578, -3.537, -1.579]\n",
    "stat, p = ttest_rel(data1, data2)\n",
    "print('stat=%.3f,p=%.3f' % (stat, p))\n",
    "if p > 0.05:\n",
    "    print(\"Probably are same distribution\")\n",
    "else:\n",
    "    print(\"Probably different distribution\")\n"
   ]
  },
  {
   "cell_type": "markdown",
   "metadata": {},
   "source": [
    "# 3- Analysis of Variance Test (ANOVA)\n",
    "\n",
    "Test whether two samples have a linear relationship\n",
    "\n",
    "'Assumptions'\n",
    "\n",
    "    1. Observations in each sample are independent and identically distributed (iid).\n",
    "    2. Observations in each sample are normally distributed\n",
    "    3. Observation in each sample have the same variance\n",
    "    4. Interpretation\n",
    "\n",
    "    1. H0: The means of the samples are equal.\\\n",
    "    2. H1: The means of the samples are unequal.\n"
   ]
  },
  {
   "cell_type": "code",
   "execution_count": 26,
   "metadata": {},
   "outputs": [
    {
     "name": "stdout",
     "output_type": "stream",
     "text": [
      "stat=0.265,p=0.613\n",
      "Probably are same distribution\n"
     ]
    }
   ],
   "source": [
    "# Example of the Pearson's Correlation test\n",
    "from scipy.stats import f_oneway\n",
    "data1 = [0.873, 2.817, 0.121, -0.945, -0.055, -\n",
    "         1.436, 0.360, -1.478, -1.637, -1.869]\n",
    "data2 = [0.353, 3.517, 0.125, -7.545, -\n",
    "         0.555, -1.536, 3.350, -1.578, -3.537, -1.579]\n",
    "stat, p = f_oneway(data1, data2)\n",
    "print('stat=%.3f,p=%.3f' % (stat, p))\n",
    "if p > 0.05:\n",
    "    print(\"Probably are same distribution\")\n",
    "else:\n",
    "    print(\"Probably different distribution\")\n"
   ]
  },
  {
   "cell_type": "code",
   "execution_count": 27,
   "metadata": {},
   "outputs": [
    {
     "name": "stdout",
     "output_type": "stream",
     "text": [
      "stat=-7.351,p=0.000\n",
      "Probably different distribution\n"
     ]
    }
   ],
   "source": [
    "# Example of the Pearson's Correlation test\n",
    "from scipy.stats import ttest_rel\n",
    "data1 = ks['age']\n",
    "data2 = ks['fare']\n",
    "stat, p = ttest_rel(data1, data2)\n",
    "print('stat=%.3f,p=%.3f' % (stat, p))\n",
    "if p > 0.05:\n",
    "    print(\"Probably are same distribution\")\n",
    "else:\n",
    "    print(\"Probably different distribution\")\n"
   ]
  }
 ],
 "metadata": {
  "interpreter": {
   "hash": "e626341f7d273a073ca6760d51f453142864e91a54b48c38f50eacc9d94e2c4c"
  },
  "kernelspec": {
   "display_name": "Python 3.10.0 64-bit",
   "language": "python",
   "name": "python3"
  },
  "language_info": {
   "codemirror_mode": {
    "name": "ipython",
    "version": 3
   },
   "file_extension": ".py",
   "mimetype": "text/x-python",
   "name": "python",
   "nbconvert_exporter": "python",
   "pygments_lexer": "ipython3",
   "version": "3.10.0"
  },
  "orig_nbformat": 4
 },
 "nbformat": 4,
 "nbformat_minor": 2
}
